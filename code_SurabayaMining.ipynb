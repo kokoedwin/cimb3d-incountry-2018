{
 "cells": [
  {
   "cell_type": "markdown",
   "metadata": {},
   "source": [
    "# Team SurabayaMining\n",
    "\n",
    "## by: Grance Angelica, Jonathan Edwin, Stephen Jaya Gunawan"
   ]
  },
  {
   "cell_type": "markdown",
   "metadata": {},
   "source": [
    "# Import library"
   ]
  },
  {
   "cell_type": "code",
   "execution_count": 88,
   "metadata": {},
   "outputs": [],
   "source": [
    "import pandas as pd\n",
    "import matplotlib.pyplot as plt\n",
    "import seaborn as sns\n",
    "import numpy as np\n",
    "from imblearn.over_sampling import SMOTE, ADASYN\n",
    "from imblearn.combine import SMOTEENN"
   ]
  },
  {
   "cell_type": "code",
   "execution_count": 137,
   "metadata": {},
   "outputs": [],
   "source": [
    "from sklearn.model_selection import train_test_split\n",
    "from sklearn.preprocessing import OneHotEncoder, LabelEncoder, MinMaxScaler\n",
    "from sklearn.ensemble import RandomForestClassifier, AdaBoostClassifier, VotingClassifier, GradientBoostingClassifier, ExtraTreesClassifier\n",
    "from sklearn.svm import SVC\n",
    "from sklearn.metrics import classification_report, confusion_matrix, roc_auc_score\n",
    "from sklearn.linear_model import LogisticRegression\n",
    "from sklearn.neighbors import KNeighborsClassifier\n",
    "from sklearn.pipeline import Pipeline\n",
    "from sklearn.decomposition import PCA\n",
    "import xgboost as xgb\n",
    "from sklearn.naive_bayes import GaussianNB\n",
    "from sklearn.model_selection import GridSearchCV"
   ]
  },
  {
   "cell_type": "markdown",
   "metadata": {},
   "source": [
    "# import Data by using read_csv "
   ]
  },
  {
   "cell_type": "code",
   "execution_count": 172,
   "metadata": {},
   "outputs": [],
   "source": [
    "df = pd.read_csv('telco_data_with_bank_delq_clean.csv')\n",
    "df1 = pd.read_csv('1. DEMO_BANK_INFO.csv', encoding = \"ISO-8859-1\")\n",
    "df2 = pd.read_csv('2. BANK_TELCO_ID_MATCH.csv')\n",
    "df3 = pd.read_csv('3. AGGREGATED_TELCO_TRANSACTIONS.csv')\n",
    "df4 = pd.read_csv('4. MOBILE_OS.csv')\n",
    "df5 = pd.read_csv('5. RAW_TELCO_TRANSACTIONS.csv')\n",
    "df6 = pd.read_csv('VALIDATION_SET.csv', encoding = \"ISO-8859-1\", index_col= 'BANK_ID')\n",
    "df5_pre = pd.read_csv('preProcessDF5.csv')\n",
    "df7 = pd.read_csv('SUBMISSION.csv',index_col= 'BANK_ID')"
   ]
  },
  {
   "cell_type": "code",
   "execution_count": 4,
   "metadata": {},
   "outputs": [
    {
     "name": "stdout",
     "output_type": "stream",
     "text": [
      "<class 'pandas.core.frame.DataFrame'>\n",
      "RangeIndex: 13199 entries, 0 to 13198\n",
      "Data columns (total 25 columns):\n",
      "BANK_ID                  13199 non-null int64\n",
      "AGE                      13199 non-null int64\n",
      "MARITAL_STATUS           13199 non-null object\n",
      "POSTAL_CD                13195 non-null float64\n",
      "GENDER                   13199 non-null object\n",
      "EDUCATION                10636 non-null object\n",
      "STATE                    13199 non-null object\n",
      "OCCUPATION               13199 non-null object\n",
      "OCC_DESC                 13199 non-null object\n",
      "CUST_SEGMENT             13199 non-null object\n",
      "DEPENDENT_CNT            13199 non-null int64\n",
      "CA_AVG_BAL               262 non-null float64\n",
      "SA_AVG_BAL               11308 non-null float64\n",
      "CA_CNT                   262 non-null float64\n",
      "SA_CNT                   11308 non-null float64\n",
      "CC_CNT                   13199 non-null int64\n",
      "HP_CNT                   13199 non-null int64\n",
      "TL_CNT                   13199 non-null int64\n",
      "TLi_CNT                  13199 non-null int64\n",
      "INS_CREDIT_LIFE_CNT      13199 non-null int64\n",
      "INS_LIFE_CNT             13199 non-null int64\n",
      "INS_NON_LIFE_CNT         13199 non-null int64\n",
      "INS_CNT                  13199 non-null int64\n",
      "loan_application_date    13199 non-null object\n",
      "DELQ_FLG                 13199 non-null object\n",
      "dtypes: float64(5), int64(11), object(9)\n",
      "memory usage: 2.5+ MB\n"
     ]
    }
   ],
   "source": [
    "df1.info()"
   ]
  },
  {
   "cell_type": "code",
   "execution_count": 5,
   "metadata": {},
   "outputs": [],
   "source": [
    "columns = ['AGE', 'MARITAL_STATUS', 'POSTAL_CD','GENDER','EDUCATION','STATE', 'OCCUPATION', 'OCC_DESC', 'CUST_SEGMENT','DEPENDENT_CNT', 'CA_AVG_BAL', 'CA_CNT', 'loan_application_date']"
   ]
  },
  {
   "cell_type": "code",
   "execution_count": 6,
   "metadata": {},
   "outputs": [],
   "source": [
    "df1_drop = df1.drop(columns, axis =1)\n",
    "df6_drop = df6.drop(columns, axis =1)"
   ]
  },
  {
   "cell_type": "code",
   "execution_count": 7,
   "metadata": {},
   "outputs": [
    {
     "data": {
      "text/html": [
       "<div>\n",
       "<style scoped>\n",
       "    .dataframe tbody tr th:only-of-type {\n",
       "        vertical-align: middle;\n",
       "    }\n",
       "\n",
       "    .dataframe tbody tr th {\n",
       "        vertical-align: top;\n",
       "    }\n",
       "\n",
       "    .dataframe thead th {\n",
       "        text-align: right;\n",
       "    }\n",
       "</style>\n",
       "<table border=\"1\" class=\"dataframe\">\n",
       "  <thead>\n",
       "    <tr style=\"text-align: right;\">\n",
       "      <th></th>\n",
       "      <th>BANK_ID</th>\n",
       "      <th>SA_AVG_BAL</th>\n",
       "      <th>SA_CNT</th>\n",
       "      <th>CC_CNT</th>\n",
       "      <th>HP_CNT</th>\n",
       "      <th>TL_CNT</th>\n",
       "      <th>TLi_CNT</th>\n",
       "      <th>INS_CREDIT_LIFE_CNT</th>\n",
       "      <th>INS_LIFE_CNT</th>\n",
       "      <th>INS_NON_LIFE_CNT</th>\n",
       "      <th>INS_CNT</th>\n",
       "      <th>DELQ_FLG</th>\n",
       "    </tr>\n",
       "  </thead>\n",
       "  <tbody>\n",
       "    <tr>\n",
       "      <th>0</th>\n",
       "      <td>13398</td>\n",
       "      <td>817.676333</td>\n",
       "      <td>1.0</td>\n",
       "      <td>2</td>\n",
       "      <td>0</td>\n",
       "      <td>0</td>\n",
       "      <td>0</td>\n",
       "      <td>0</td>\n",
       "      <td>0</td>\n",
       "      <td>0</td>\n",
       "      <td>0</td>\n",
       "      <td>N</td>\n",
       "    </tr>\n",
       "    <tr>\n",
       "      <th>1</th>\n",
       "      <td>16152</td>\n",
       "      <td>1599.595667</td>\n",
       "      <td>1.0</td>\n",
       "      <td>0</td>\n",
       "      <td>0</td>\n",
       "      <td>0</td>\n",
       "      <td>0</td>\n",
       "      <td>0</td>\n",
       "      <td>0</td>\n",
       "      <td>0</td>\n",
       "      <td>0</td>\n",
       "      <td>N</td>\n",
       "    </tr>\n",
       "    <tr>\n",
       "      <th>2</th>\n",
       "      <td>18560</td>\n",
       "      <td>NaN</td>\n",
       "      <td>NaN</td>\n",
       "      <td>0</td>\n",
       "      <td>0</td>\n",
       "      <td>0</td>\n",
       "      <td>0</td>\n",
       "      <td>0</td>\n",
       "      <td>0</td>\n",
       "      <td>0</td>\n",
       "      <td>0</td>\n",
       "      <td>N</td>\n",
       "    </tr>\n",
       "    <tr>\n",
       "      <th>3</th>\n",
       "      <td>18568</td>\n",
       "      <td>NaN</td>\n",
       "      <td>NaN</td>\n",
       "      <td>0</td>\n",
       "      <td>0</td>\n",
       "      <td>0</td>\n",
       "      <td>0</td>\n",
       "      <td>0</td>\n",
       "      <td>0</td>\n",
       "      <td>0</td>\n",
       "      <td>0</td>\n",
       "      <td>N</td>\n",
       "    </tr>\n",
       "    <tr>\n",
       "      <th>4</th>\n",
       "      <td>26717</td>\n",
       "      <td>NaN</td>\n",
       "      <td>NaN</td>\n",
       "      <td>0</td>\n",
       "      <td>0</td>\n",
       "      <td>0</td>\n",
       "      <td>0</td>\n",
       "      <td>0</td>\n",
       "      <td>0</td>\n",
       "      <td>0</td>\n",
       "      <td>0</td>\n",
       "      <td>N</td>\n",
       "    </tr>\n",
       "  </tbody>\n",
       "</table>\n",
       "</div>"
      ],
      "text/plain": [
       "   BANK_ID   SA_AVG_BAL  SA_CNT  CC_CNT  HP_CNT  TL_CNT  TLi_CNT  \\\n",
       "0    13398   817.676333     1.0       2       0       0        0   \n",
       "1    16152  1599.595667     1.0       0       0       0        0   \n",
       "2    18560          NaN     NaN       0       0       0        0   \n",
       "3    18568          NaN     NaN       0       0       0        0   \n",
       "4    26717          NaN     NaN       0       0       0        0   \n",
       "\n",
       "   INS_CREDIT_LIFE_CNT  INS_LIFE_CNT  INS_NON_LIFE_CNT  INS_CNT DELQ_FLG  \n",
       "0                    0             0                 0        0        N  \n",
       "1                    0             0                 0        0        N  \n",
       "2                    0             0                 0        0        N  \n",
       "3                    0             0                 0        0        N  \n",
       "4                    0             0                 0        0        N  "
      ]
     },
     "execution_count": 7,
     "metadata": {},
     "output_type": "execute_result"
    }
   ],
   "source": [
    "df1_drop.head()"
   ]
  },
  {
   "cell_type": "code",
   "execution_count": 8,
   "metadata": {},
   "outputs": [
    {
     "data": {
      "text/html": [
       "<div>\n",
       "<style scoped>\n",
       "    .dataframe tbody tr th:only-of-type {\n",
       "        vertical-align: middle;\n",
       "    }\n",
       "\n",
       "    .dataframe tbody tr th {\n",
       "        vertical-align: top;\n",
       "    }\n",
       "\n",
       "    .dataframe thead th {\n",
       "        text-align: right;\n",
       "    }\n",
       "</style>\n",
       "<table border=\"1\" class=\"dataframe\">\n",
       "  <thead>\n",
       "    <tr style=\"text-align: right;\">\n",
       "      <th></th>\n",
       "      <th>BANK_ID</th>\n",
       "      <th>SA_AVG_BAL</th>\n",
       "      <th>SA_CNT</th>\n",
       "      <th>CC_CNT</th>\n",
       "      <th>HP_CNT</th>\n",
       "      <th>TL_CNT</th>\n",
       "      <th>TLi_CNT</th>\n",
       "      <th>INS_CREDIT_LIFE_CNT</th>\n",
       "      <th>INS_LIFE_CNT</th>\n",
       "      <th>INS_NON_LIFE_CNT</th>\n",
       "      <th>INS_CNT</th>\n",
       "    </tr>\n",
       "  </thead>\n",
       "  <tbody>\n",
       "    <tr>\n",
       "      <th>0</th>\n",
       "      <td>10001</td>\n",
       "      <td>10558.654670</td>\n",
       "      <td>1.0</td>\n",
       "      <td>1</td>\n",
       "      <td>0</td>\n",
       "      <td>0</td>\n",
       "      <td>0</td>\n",
       "      <td>0</td>\n",
       "      <td>0</td>\n",
       "      <td>0</td>\n",
       "      <td>0</td>\n",
       "    </tr>\n",
       "    <tr>\n",
       "      <th>1</th>\n",
       "      <td>10006</td>\n",
       "      <td>126.347419</td>\n",
       "      <td>1.0</td>\n",
       "      <td>0</td>\n",
       "      <td>0</td>\n",
       "      <td>0</td>\n",
       "      <td>0</td>\n",
       "      <td>0</td>\n",
       "      <td>0</td>\n",
       "      <td>0</td>\n",
       "      <td>0</td>\n",
       "    </tr>\n",
       "    <tr>\n",
       "      <th>2</th>\n",
       "      <td>10018</td>\n",
       "      <td>241.085333</td>\n",
       "      <td>1.0</td>\n",
       "      <td>0</td>\n",
       "      <td>1</td>\n",
       "      <td>0</td>\n",
       "      <td>0</td>\n",
       "      <td>0</td>\n",
       "      <td>0</td>\n",
       "      <td>0</td>\n",
       "      <td>0</td>\n",
       "    </tr>\n",
       "    <tr>\n",
       "      <th>3</th>\n",
       "      <td>10019</td>\n",
       "      <td>392.004333</td>\n",
       "      <td>1.0</td>\n",
       "      <td>0</td>\n",
       "      <td>0</td>\n",
       "      <td>0</td>\n",
       "      <td>0</td>\n",
       "      <td>0</td>\n",
       "      <td>0</td>\n",
       "      <td>0</td>\n",
       "      <td>0</td>\n",
       "    </tr>\n",
       "    <tr>\n",
       "      <th>4</th>\n",
       "      <td>10028</td>\n",
       "      <td>131482.887400</td>\n",
       "      <td>1.0</td>\n",
       "      <td>1</td>\n",
       "      <td>1</td>\n",
       "      <td>0</td>\n",
       "      <td>0</td>\n",
       "      <td>0</td>\n",
       "      <td>0</td>\n",
       "      <td>0</td>\n",
       "      <td>0</td>\n",
       "    </tr>\n",
       "  </tbody>\n",
       "</table>\n",
       "</div>"
      ],
      "text/plain": [
       "   BANK_ID     SA_AVG_BAL  SA_CNT  CC_CNT  HP_CNT  TL_CNT  TLi_CNT  \\\n",
       "0    10001   10558.654670     1.0       1       0       0        0   \n",
       "1    10006     126.347419     1.0       0       0       0        0   \n",
       "2    10018     241.085333     1.0       0       1       0        0   \n",
       "3    10019     392.004333     1.0       0       0       0        0   \n",
       "4    10028  131482.887400     1.0       1       1       0        0   \n",
       "\n",
       "   INS_CREDIT_LIFE_CNT  INS_LIFE_CNT  INS_NON_LIFE_CNT  INS_CNT  \n",
       "0                    0             0                 0        0  \n",
       "1                    0             0                 0        0  \n",
       "2                    0             0                 0        0  \n",
       "3                    0             0                 0        0  \n",
       "4                    0             0                 0        0  "
      ]
     },
     "execution_count": 8,
     "metadata": {},
     "output_type": "execute_result"
    }
   ],
   "source": [
    "df6_drop.head()"
   ]
  },
  {
   "cell_type": "code",
   "execution_count": 9,
   "metadata": {},
   "outputs": [
    {
     "name": "stdout",
     "output_type": "stream",
     "text": [
      "<class 'pandas.core.frame.DataFrame'>\n",
      "RangeIndex: 5657 entries, 0 to 5656\n",
      "Data columns (total 11 columns):\n",
      "BANK_ID                5657 non-null int64\n",
      "SA_AVG_BAL             4871 non-null float64\n",
      "SA_CNT                 4871 non-null float64\n",
      "CC_CNT                 5657 non-null int64\n",
      "HP_CNT                 5657 non-null int64\n",
      "TL_CNT                 5657 non-null int64\n",
      "TLi_CNT                5657 non-null int64\n",
      "INS_CREDIT_LIFE_CNT    5657 non-null int64\n",
      "INS_LIFE_CNT           5657 non-null int64\n",
      "INS_NON_LIFE_CNT       5657 non-null int64\n",
      "INS_CNT                5657 non-null int64\n",
      "dtypes: float64(2), int64(9)\n",
      "memory usage: 486.2 KB\n"
     ]
    }
   ],
   "source": [
    "df6_drop.info()"
   ]
  },
  {
   "cell_type": "markdown",
   "metadata": {},
   "source": [
    "# Assumptions that Missing value in SA is they dont make their saving account so we can make it to zero"
   ]
  },
  {
   "cell_type": "code",
   "execution_count": 10,
   "metadata": {},
   "outputs": [],
   "source": [
    "df1_drop[['SA_AVG_BAL','SA_CNT']] = df1_drop[['SA_AVG_BAL','SA_CNT']].fillna(value=0)\n",
    "df6_drop[['SA_AVG_BAL','SA_CNT']] = df6_drop[['SA_AVG_BAL','SA_CNT']].fillna(value=0)"
   ]
  },
  {
   "cell_type": "code",
   "execution_count": 11,
   "metadata": {},
   "outputs": [
    {
     "data": {
      "text/html": [
       "<div>\n",
       "<style scoped>\n",
       "    .dataframe tbody tr th:only-of-type {\n",
       "        vertical-align: middle;\n",
       "    }\n",
       "\n",
       "    .dataframe tbody tr th {\n",
       "        vertical-align: top;\n",
       "    }\n",
       "\n",
       "    .dataframe thead th {\n",
       "        text-align: right;\n",
       "    }\n",
       "</style>\n",
       "<table border=\"1\" class=\"dataframe\">\n",
       "  <thead>\n",
       "    <tr style=\"text-align: right;\">\n",
       "      <th></th>\n",
       "      <th>TELCO_ID</th>\n",
       "      <th>NUM_WEB</th>\n",
       "      <th>NUM_APP</th>\n",
       "      <th>NUM_POSTPAID</th>\n",
       "      <th>NUM_PREPAID</th>\n",
       "    </tr>\n",
       "  </thead>\n",
       "  <tbody>\n",
       "    <tr>\n",
       "      <th>0</th>\n",
       "      <td>C-42552</td>\n",
       "      <td>29</td>\n",
       "      <td>0</td>\n",
       "      <td>12</td>\n",
       "      <td>17</td>\n",
       "    </tr>\n",
       "    <tr>\n",
       "      <th>1</th>\n",
       "      <td>C-43558</td>\n",
       "      <td>23</td>\n",
       "      <td>30</td>\n",
       "      <td>5</td>\n",
       "      <td>48</td>\n",
       "    </tr>\n",
       "    <tr>\n",
       "      <th>2</th>\n",
       "      <td>C-44626</td>\n",
       "      <td>1</td>\n",
       "      <td>6</td>\n",
       "      <td>7</td>\n",
       "      <td>0</td>\n",
       "    </tr>\n",
       "    <tr>\n",
       "      <th>3</th>\n",
       "      <td>C-42481</td>\n",
       "      <td>8</td>\n",
       "      <td>0</td>\n",
       "      <td>8</td>\n",
       "      <td>0</td>\n",
       "    </tr>\n",
       "    <tr>\n",
       "      <th>4</th>\n",
       "      <td>C-44902</td>\n",
       "      <td>12</td>\n",
       "      <td>0</td>\n",
       "      <td>12</td>\n",
       "      <td>0</td>\n",
       "    </tr>\n",
       "  </tbody>\n",
       "</table>\n",
       "</div>"
      ],
      "text/plain": [
       "  TELCO_ID  NUM_WEB  NUM_APP  NUM_POSTPAID  NUM_PREPAID\n",
       "0  C-42552       29        0            12           17\n",
       "1  C-43558       23       30             5           48\n",
       "2  C-44626        1        6             7            0\n",
       "3  C-42481        8        0             8            0\n",
       "4  C-44902       12        0            12            0"
      ]
     },
     "execution_count": 11,
     "metadata": {},
     "output_type": "execute_result"
    }
   ],
   "source": [
    "df5_pre.head()"
   ]
  },
  {
   "cell_type": "code",
   "execution_count": 12,
   "metadata": {},
   "outputs": [
    {
     "data": {
      "text/html": [
       "<div>\n",
       "<style scoped>\n",
       "    .dataframe tbody tr th:only-of-type {\n",
       "        vertical-align: middle;\n",
       "    }\n",
       "\n",
       "    .dataframe tbody tr th {\n",
       "        vertical-align: top;\n",
       "    }\n",
       "\n",
       "    .dataframe thead th {\n",
       "        text-align: right;\n",
       "    }\n",
       "</style>\n",
       "<table border=\"1\" class=\"dataframe\">\n",
       "  <thead>\n",
       "    <tr style=\"text-align: right;\">\n",
       "      <th></th>\n",
       "      <th>TELCO_ID</th>\n",
       "      <th>PREPAID_AMT_MTH_1</th>\n",
       "      <th>PREPAID_AMT_MTH_2</th>\n",
       "      <th>PREPAID_AMT_MTH_3</th>\n",
       "      <th>PREPAID_AMT_MTH_4</th>\n",
       "      <th>PREPAID_AMT_MTH_5</th>\n",
       "      <th>PREPAID_AMT_MTH_6</th>\n",
       "      <th>PREPAID_CNT_MTH_1</th>\n",
       "      <th>PREPAID_CNT_MTH_2</th>\n",
       "      <th>PREPAID_CNT_MTH_3</th>\n",
       "      <th>...</th>\n",
       "      <th>POSTPAID_CNT_MTH_5</th>\n",
       "      <th>POSTPAID_CNT_MTH_6</th>\n",
       "      <th>TOTAL_POSTPAID_AMT</th>\n",
       "      <th>TOTAL_POSTPAID_CNT</th>\n",
       "      <th>TOTAL_PREPAID_AMT</th>\n",
       "      <th>TOTAL_PREPAID_CNT</th>\n",
       "      <th>AVG_POSTPAID_AMT</th>\n",
       "      <th>AVG_POSTPAID_CNT</th>\n",
       "      <th>AVG_PREPAID_AMT</th>\n",
       "      <th>AVG_PREPAID_CNT</th>\n",
       "    </tr>\n",
       "  </thead>\n",
       "  <tbody>\n",
       "    <tr>\n",
       "      <th>0</th>\n",
       "      <td>C-42552</td>\n",
       "      <td>100.0</td>\n",
       "      <td>87.50</td>\n",
       "      <td>187.50</td>\n",
       "      <td>62.50</td>\n",
       "      <td>175.00</td>\n",
       "      <td>137.50</td>\n",
       "      <td>2.5</td>\n",
       "      <td>2.50</td>\n",
       "      <td>6.25</td>\n",
       "      <td>...</td>\n",
       "      <td>3.75</td>\n",
       "      <td>3.75</td>\n",
       "      <td>1987.2500</td>\n",
       "      <td>15.00</td>\n",
       "      <td>750.00</td>\n",
       "      <td>21.25</td>\n",
       "      <td>331.208333</td>\n",
       "      <td>2.500000</td>\n",
       "      <td>125.000000</td>\n",
       "      <td>3.541667</td>\n",
       "    </tr>\n",
       "    <tr>\n",
       "      <th>1</th>\n",
       "      <td>C-43558</td>\n",
       "      <td>300.0</td>\n",
       "      <td>231.25</td>\n",
       "      <td>56.25</td>\n",
       "      <td>106.25</td>\n",
       "      <td>68.75</td>\n",
       "      <td>106.25</td>\n",
       "      <td>17.5</td>\n",
       "      <td>18.75</td>\n",
       "      <td>7.50</td>\n",
       "      <td>...</td>\n",
       "      <td>1.25</td>\n",
       "      <td>1.25</td>\n",
       "      <td>827.5000</td>\n",
       "      <td>6.25</td>\n",
       "      <td>868.75</td>\n",
       "      <td>60.00</td>\n",
       "      <td>137.916667</td>\n",
       "      <td>1.041667</td>\n",
       "      <td>144.791667</td>\n",
       "      <td>10.000000</td>\n",
       "    </tr>\n",
       "    <tr>\n",
       "      <th>2</th>\n",
       "      <td>C-44626</td>\n",
       "      <td>0.0</td>\n",
       "      <td>0.00</td>\n",
       "      <td>0.00</td>\n",
       "      <td>0.00</td>\n",
       "      <td>0.00</td>\n",
       "      <td>0.00</td>\n",
       "      <td>0.0</td>\n",
       "      <td>0.00</td>\n",
       "      <td>0.00</td>\n",
       "      <td>...</td>\n",
       "      <td>1.25</td>\n",
       "      <td>1.25</td>\n",
       "      <td>1356.8125</td>\n",
       "      <td>8.75</td>\n",
       "      <td>0.00</td>\n",
       "      <td>0.00</td>\n",
       "      <td>226.135417</td>\n",
       "      <td>1.458333</td>\n",
       "      <td>0.000000</td>\n",
       "      <td>0.000000</td>\n",
       "    </tr>\n",
       "    <tr>\n",
       "      <th>3</th>\n",
       "      <td>C-42481</td>\n",
       "      <td>0.0</td>\n",
       "      <td>0.00</td>\n",
       "      <td>0.00</td>\n",
       "      <td>0.00</td>\n",
       "      <td>0.00</td>\n",
       "      <td>0.00</td>\n",
       "      <td>0.0</td>\n",
       "      <td>0.00</td>\n",
       "      <td>0.00</td>\n",
       "      <td>...</td>\n",
       "      <td>0.00</td>\n",
       "      <td>0.00</td>\n",
       "      <td>2391.2500</td>\n",
       "      <td>10.00</td>\n",
       "      <td>0.00</td>\n",
       "      <td>0.00</td>\n",
       "      <td>398.541667</td>\n",
       "      <td>1.666667</td>\n",
       "      <td>0.000000</td>\n",
       "      <td>0.000000</td>\n",
       "    </tr>\n",
       "    <tr>\n",
       "      <th>4</th>\n",
       "      <td>C-44902</td>\n",
       "      <td>0.0</td>\n",
       "      <td>0.00</td>\n",
       "      <td>0.00</td>\n",
       "      <td>0.00</td>\n",
       "      <td>0.00</td>\n",
       "      <td>0.00</td>\n",
       "      <td>0.0</td>\n",
       "      <td>0.00</td>\n",
       "      <td>0.00</td>\n",
       "      <td>...</td>\n",
       "      <td>0.00</td>\n",
       "      <td>2.50</td>\n",
       "      <td>910.5000</td>\n",
       "      <td>15.00</td>\n",
       "      <td>0.00</td>\n",
       "      <td>0.00</td>\n",
       "      <td>151.750000</td>\n",
       "      <td>2.500000</td>\n",
       "      <td>0.000000</td>\n",
       "      <td>0.000000</td>\n",
       "    </tr>\n",
       "  </tbody>\n",
       "</table>\n",
       "<p>5 rows × 33 columns</p>\n",
       "</div>"
      ],
      "text/plain": [
       "  TELCO_ID  PREPAID_AMT_MTH_1  PREPAID_AMT_MTH_2  PREPAID_AMT_MTH_3  \\\n",
       "0  C-42552              100.0              87.50             187.50   \n",
       "1  C-43558              300.0             231.25              56.25   \n",
       "2  C-44626                0.0               0.00               0.00   \n",
       "3  C-42481                0.0               0.00               0.00   \n",
       "4  C-44902                0.0               0.00               0.00   \n",
       "\n",
       "   PREPAID_AMT_MTH_4  PREPAID_AMT_MTH_5  PREPAID_AMT_MTH_6  PREPAID_CNT_MTH_1  \\\n",
       "0              62.50             175.00             137.50                2.5   \n",
       "1             106.25              68.75             106.25               17.5   \n",
       "2               0.00               0.00               0.00                0.0   \n",
       "3               0.00               0.00               0.00                0.0   \n",
       "4               0.00               0.00               0.00                0.0   \n",
       "\n",
       "   PREPAID_CNT_MTH_2  PREPAID_CNT_MTH_3       ...         POSTPAID_CNT_MTH_5  \\\n",
       "0               2.50               6.25       ...                       3.75   \n",
       "1              18.75               7.50       ...                       1.25   \n",
       "2               0.00               0.00       ...                       1.25   \n",
       "3               0.00               0.00       ...                       0.00   \n",
       "4               0.00               0.00       ...                       0.00   \n",
       "\n",
       "   POSTPAID_CNT_MTH_6  TOTAL_POSTPAID_AMT  TOTAL_POSTPAID_CNT  \\\n",
       "0                3.75           1987.2500               15.00   \n",
       "1                1.25            827.5000                6.25   \n",
       "2                1.25           1356.8125                8.75   \n",
       "3                0.00           2391.2500               10.00   \n",
       "4                2.50            910.5000               15.00   \n",
       "\n",
       "   TOTAL_PREPAID_AMT  TOTAL_PREPAID_CNT  AVG_POSTPAID_AMT  AVG_POSTPAID_CNT  \\\n",
       "0             750.00              21.25        331.208333          2.500000   \n",
       "1             868.75              60.00        137.916667          1.041667   \n",
       "2               0.00               0.00        226.135417          1.458333   \n",
       "3               0.00               0.00        398.541667          1.666667   \n",
       "4               0.00               0.00        151.750000          2.500000   \n",
       "\n",
       "   AVG_PREPAID_AMT  AVG_PREPAID_CNT  \n",
       "0       125.000000         3.541667  \n",
       "1       144.791667        10.000000  \n",
       "2         0.000000         0.000000  \n",
       "3         0.000000         0.000000  \n",
       "4         0.000000         0.000000  \n",
       "\n",
       "[5 rows x 33 columns]"
      ]
     },
     "execution_count": 12,
     "metadata": {},
     "output_type": "execute_result"
    }
   ],
   "source": [
    "df3.head()"
   ]
  },
  {
   "cell_type": "markdown",
   "metadata": {},
   "source": [
    "# We used only Average or prepaid+postpaid data and make it into new features for amount(AMT) AND count(CNT)"
   ]
  },
  {
   "cell_type": "code",
   "execution_count": 13,
   "metadata": {},
   "outputs": [],
   "source": [
    "df3['AVG_PAID_AMT'] = ((df3['AVG_POSTPAID_AMT']*6) + (df3['AVG_PREPAID_AMT']*6))/6"
   ]
  },
  {
   "cell_type": "code",
   "execution_count": 14,
   "metadata": {},
   "outputs": [],
   "source": [
    "df3['AVG_PAID_CNT'] = ((df3['AVG_POSTPAID_CNT']*6) + (df3['AVG_PREPAID_CNT']*6))//6"
   ]
  },
  {
   "cell_type": "code",
   "execution_count": 15,
   "metadata": {},
   "outputs": [
    {
     "data": {
      "text/html": [
       "<div>\n",
       "<style scoped>\n",
       "    .dataframe tbody tr th:only-of-type {\n",
       "        vertical-align: middle;\n",
       "    }\n",
       "\n",
       "    .dataframe tbody tr th {\n",
       "        vertical-align: top;\n",
       "    }\n",
       "\n",
       "    .dataframe thead th {\n",
       "        text-align: right;\n",
       "    }\n",
       "</style>\n",
       "<table border=\"1\" class=\"dataframe\">\n",
       "  <thead>\n",
       "    <tr style=\"text-align: right;\">\n",
       "      <th></th>\n",
       "      <th>BANK_ID</th>\n",
       "      <th>TELCO_ID</th>\n",
       "    </tr>\n",
       "  </thead>\n",
       "  <tbody>\n",
       "    <tr>\n",
       "      <th>0</th>\n",
       "      <td>12140</td>\n",
       "      <td>C-42552</td>\n",
       "    </tr>\n",
       "    <tr>\n",
       "      <th>1</th>\n",
       "      <td>17875</td>\n",
       "      <td>C-50147</td>\n",
       "    </tr>\n",
       "    <tr>\n",
       "      <th>2</th>\n",
       "      <td>12935</td>\n",
       "      <td>C-43558</td>\n",
       "    </tr>\n",
       "    <tr>\n",
       "      <th>3</th>\n",
       "      <td>18777</td>\n",
       "      <td>C-51391</td>\n",
       "    </tr>\n",
       "    <tr>\n",
       "      <th>4</th>\n",
       "      <td>17083</td>\n",
       "      <td>C-49078</td>\n",
       "    </tr>\n",
       "  </tbody>\n",
       "</table>\n",
       "</div>"
      ],
      "text/plain": [
       "   BANK_ID TELCO_ID\n",
       "0    12140  C-42552\n",
       "1    17875  C-50147\n",
       "2    12935  C-43558\n",
       "3    18777  C-51391\n",
       "4    17083  C-49078"
      ]
     },
     "execution_count": 15,
     "metadata": {},
     "output_type": "execute_result"
    }
   ],
   "source": [
    "df2.head()"
   ]
  },
  {
   "cell_type": "code",
   "execution_count": 16,
   "metadata": {},
   "outputs": [],
   "source": [
    "df2_df3= pd.merge(df2, df3, how = 'left', left_on=['TELCO_ID'], right_on=['TELCO_ID'])"
   ]
  },
  {
   "cell_type": "code",
   "execution_count": 17,
   "metadata": {},
   "outputs": [
    {
     "data": {
      "text/html": [
       "<div>\n",
       "<style scoped>\n",
       "    .dataframe tbody tr th:only-of-type {\n",
       "        vertical-align: middle;\n",
       "    }\n",
       "\n",
       "    .dataframe tbody tr th {\n",
       "        vertical-align: top;\n",
       "    }\n",
       "\n",
       "    .dataframe thead th {\n",
       "        text-align: right;\n",
       "    }\n",
       "</style>\n",
       "<table border=\"1\" class=\"dataframe\">\n",
       "  <thead>\n",
       "    <tr style=\"text-align: right;\">\n",
       "      <th></th>\n",
       "      <th>BANK_ID</th>\n",
       "      <th>TELCO_ID</th>\n",
       "      <th>PREPAID_AMT_MTH_1</th>\n",
       "      <th>PREPAID_AMT_MTH_2</th>\n",
       "      <th>PREPAID_AMT_MTH_3</th>\n",
       "      <th>PREPAID_AMT_MTH_4</th>\n",
       "      <th>PREPAID_AMT_MTH_5</th>\n",
       "      <th>PREPAID_AMT_MTH_6</th>\n",
       "      <th>PREPAID_CNT_MTH_1</th>\n",
       "      <th>PREPAID_CNT_MTH_2</th>\n",
       "      <th>...</th>\n",
       "      <th>TOTAL_POSTPAID_AMT</th>\n",
       "      <th>TOTAL_POSTPAID_CNT</th>\n",
       "      <th>TOTAL_PREPAID_AMT</th>\n",
       "      <th>TOTAL_PREPAID_CNT</th>\n",
       "      <th>AVG_POSTPAID_AMT</th>\n",
       "      <th>AVG_POSTPAID_CNT</th>\n",
       "      <th>AVG_PREPAID_AMT</th>\n",
       "      <th>AVG_PREPAID_CNT</th>\n",
       "      <th>AVG_PAID_AMT</th>\n",
       "      <th>AVG_PAID_CNT</th>\n",
       "    </tr>\n",
       "  </thead>\n",
       "  <tbody>\n",
       "    <tr>\n",
       "      <th>0</th>\n",
       "      <td>12140</td>\n",
       "      <td>C-42552</td>\n",
       "      <td>100.0</td>\n",
       "      <td>87.50</td>\n",
       "      <td>187.50</td>\n",
       "      <td>62.50</td>\n",
       "      <td>175.00</td>\n",
       "      <td>137.50</td>\n",
       "      <td>2.5</td>\n",
       "      <td>2.50</td>\n",
       "      <td>...</td>\n",
       "      <td>1987.25</td>\n",
       "      <td>15.00</td>\n",
       "      <td>750.00</td>\n",
       "      <td>21.25</td>\n",
       "      <td>331.208333</td>\n",
       "      <td>2.500000</td>\n",
       "      <td>125.000000</td>\n",
       "      <td>3.541667</td>\n",
       "      <td>456.208333</td>\n",
       "      <td>6.0</td>\n",
       "    </tr>\n",
       "    <tr>\n",
       "      <th>1</th>\n",
       "      <td>17875</td>\n",
       "      <td>C-50147</td>\n",
       "      <td>NaN</td>\n",
       "      <td>NaN</td>\n",
       "      <td>NaN</td>\n",
       "      <td>NaN</td>\n",
       "      <td>NaN</td>\n",
       "      <td>NaN</td>\n",
       "      <td>NaN</td>\n",
       "      <td>NaN</td>\n",
       "      <td>...</td>\n",
       "      <td>NaN</td>\n",
       "      <td>NaN</td>\n",
       "      <td>NaN</td>\n",
       "      <td>NaN</td>\n",
       "      <td>NaN</td>\n",
       "      <td>NaN</td>\n",
       "      <td>NaN</td>\n",
       "      <td>NaN</td>\n",
       "      <td>NaN</td>\n",
       "      <td>NaN</td>\n",
       "    </tr>\n",
       "    <tr>\n",
       "      <th>2</th>\n",
       "      <td>12935</td>\n",
       "      <td>C-43558</td>\n",
       "      <td>300.0</td>\n",
       "      <td>231.25</td>\n",
       "      <td>56.25</td>\n",
       "      <td>106.25</td>\n",
       "      <td>68.75</td>\n",
       "      <td>106.25</td>\n",
       "      <td>17.5</td>\n",
       "      <td>18.75</td>\n",
       "      <td>...</td>\n",
       "      <td>827.50</td>\n",
       "      <td>6.25</td>\n",
       "      <td>868.75</td>\n",
       "      <td>60.00</td>\n",
       "      <td>137.916667</td>\n",
       "      <td>1.041667</td>\n",
       "      <td>144.791667</td>\n",
       "      <td>10.000000</td>\n",
       "      <td>282.708333</td>\n",
       "      <td>11.0</td>\n",
       "    </tr>\n",
       "    <tr>\n",
       "      <th>3</th>\n",
       "      <td>18777</td>\n",
       "      <td>C-51391</td>\n",
       "      <td>NaN</td>\n",
       "      <td>NaN</td>\n",
       "      <td>NaN</td>\n",
       "      <td>NaN</td>\n",
       "      <td>NaN</td>\n",
       "      <td>NaN</td>\n",
       "      <td>NaN</td>\n",
       "      <td>NaN</td>\n",
       "      <td>...</td>\n",
       "      <td>NaN</td>\n",
       "      <td>NaN</td>\n",
       "      <td>NaN</td>\n",
       "      <td>NaN</td>\n",
       "      <td>NaN</td>\n",
       "      <td>NaN</td>\n",
       "      <td>NaN</td>\n",
       "      <td>NaN</td>\n",
       "      <td>NaN</td>\n",
       "      <td>NaN</td>\n",
       "    </tr>\n",
       "    <tr>\n",
       "      <th>4</th>\n",
       "      <td>17083</td>\n",
       "      <td>C-49078</td>\n",
       "      <td>NaN</td>\n",
       "      <td>NaN</td>\n",
       "      <td>NaN</td>\n",
       "      <td>NaN</td>\n",
       "      <td>NaN</td>\n",
       "      <td>NaN</td>\n",
       "      <td>NaN</td>\n",
       "      <td>NaN</td>\n",
       "      <td>...</td>\n",
       "      <td>NaN</td>\n",
       "      <td>NaN</td>\n",
       "      <td>NaN</td>\n",
       "      <td>NaN</td>\n",
       "      <td>NaN</td>\n",
       "      <td>NaN</td>\n",
       "      <td>NaN</td>\n",
       "      <td>NaN</td>\n",
       "      <td>NaN</td>\n",
       "      <td>NaN</td>\n",
       "    </tr>\n",
       "  </tbody>\n",
       "</table>\n",
       "<p>5 rows × 36 columns</p>\n",
       "</div>"
      ],
      "text/plain": [
       "   BANK_ID TELCO_ID  PREPAID_AMT_MTH_1  PREPAID_AMT_MTH_2  PREPAID_AMT_MTH_3  \\\n",
       "0    12140  C-42552              100.0              87.50             187.50   \n",
       "1    17875  C-50147                NaN                NaN                NaN   \n",
       "2    12935  C-43558              300.0             231.25              56.25   \n",
       "3    18777  C-51391                NaN                NaN                NaN   \n",
       "4    17083  C-49078                NaN                NaN                NaN   \n",
       "\n",
       "   PREPAID_AMT_MTH_4  PREPAID_AMT_MTH_5  PREPAID_AMT_MTH_6  PREPAID_CNT_MTH_1  \\\n",
       "0              62.50             175.00             137.50                2.5   \n",
       "1                NaN                NaN                NaN                NaN   \n",
       "2             106.25              68.75             106.25               17.5   \n",
       "3                NaN                NaN                NaN                NaN   \n",
       "4                NaN                NaN                NaN                NaN   \n",
       "\n",
       "   PREPAID_CNT_MTH_2      ...       TOTAL_POSTPAID_AMT  TOTAL_POSTPAID_CNT  \\\n",
       "0               2.50      ...                  1987.25               15.00   \n",
       "1                NaN      ...                      NaN                 NaN   \n",
       "2              18.75      ...                   827.50                6.25   \n",
       "3                NaN      ...                      NaN                 NaN   \n",
       "4                NaN      ...                      NaN                 NaN   \n",
       "\n",
       "   TOTAL_PREPAID_AMT  TOTAL_PREPAID_CNT  AVG_POSTPAID_AMT  AVG_POSTPAID_CNT  \\\n",
       "0             750.00              21.25        331.208333          2.500000   \n",
       "1                NaN                NaN               NaN               NaN   \n",
       "2             868.75              60.00        137.916667          1.041667   \n",
       "3                NaN                NaN               NaN               NaN   \n",
       "4                NaN                NaN               NaN               NaN   \n",
       "\n",
       "   AVG_PREPAID_AMT  AVG_PREPAID_CNT  AVG_PAID_AMT  AVG_PAID_CNT  \n",
       "0       125.000000         3.541667    456.208333           6.0  \n",
       "1              NaN              NaN           NaN           NaN  \n",
       "2       144.791667        10.000000    282.708333          11.0  \n",
       "3              NaN              NaN           NaN           NaN  \n",
       "4              NaN              NaN           NaN           NaN  \n",
       "\n",
       "[5 rows x 36 columns]"
      ]
     },
     "execution_count": 17,
     "metadata": {},
     "output_type": "execute_result"
    }
   ],
   "source": [
    "df2_df3.head()"
   ]
  },
  {
   "cell_type": "code",
   "execution_count": 18,
   "metadata": {},
   "outputs": [],
   "source": [
    "df2_df3_choosen = df2_df3[['BANK_ID','AVG_PAID_AMT', 'AVG_PAID_CNT']]"
   ]
  },
  {
   "cell_type": "code",
   "execution_count": 19,
   "metadata": {},
   "outputs": [],
   "source": [
    "df2_df3_choosen_groupby = df2_df3_choosen.groupby(['BANK_ID']).sum()"
   ]
  },
  {
   "cell_type": "code",
   "execution_count": 20,
   "metadata": {},
   "outputs": [
    {
     "name": "stdout",
     "output_type": "stream",
     "text": [
      "<class 'pandas.core.frame.DataFrame'>\n",
      "Int64Index: 16080 entries, 10001 to 29332\n",
      "Data columns (total 2 columns):\n",
      "AVG_PAID_AMT    16080 non-null float64\n",
      "AVG_PAID_CNT    16080 non-null float64\n",
      "dtypes: float64(2)\n",
      "memory usage: 376.9 KB\n"
     ]
    }
   ],
   "source": [
    "df2_df3_choosen_groupby.info()"
   ]
  },
  {
   "cell_type": "code",
   "execution_count": 21,
   "metadata": {},
   "outputs": [
    {
     "data": {
      "text/html": [
       "<div>\n",
       "<style scoped>\n",
       "    .dataframe tbody tr th:only-of-type {\n",
       "        vertical-align: middle;\n",
       "    }\n",
       "\n",
       "    .dataframe tbody tr th {\n",
       "        vertical-align: top;\n",
       "    }\n",
       "\n",
       "    .dataframe thead th {\n",
       "        text-align: right;\n",
       "    }\n",
       "</style>\n",
       "<table border=\"1\" class=\"dataframe\">\n",
       "  <thead>\n",
       "    <tr style=\"text-align: right;\">\n",
       "      <th></th>\n",
       "      <th>AVG_PAID_AMT</th>\n",
       "      <th>AVG_PAID_CNT</th>\n",
       "    </tr>\n",
       "    <tr>\n",
       "      <th>BANK_ID</th>\n",
       "      <th></th>\n",
       "      <th></th>\n",
       "    </tr>\n",
       "  </thead>\n",
       "  <tbody>\n",
       "    <tr>\n",
       "      <th>10001</th>\n",
       "      <td>0.000000</td>\n",
       "      <td>0.0</td>\n",
       "    </tr>\n",
       "    <tr>\n",
       "      <th>10002</th>\n",
       "      <td>0.000000</td>\n",
       "      <td>0.0</td>\n",
       "    </tr>\n",
       "    <tr>\n",
       "      <th>10004</th>\n",
       "      <td>0.000000</td>\n",
       "      <td>0.0</td>\n",
       "    </tr>\n",
       "    <tr>\n",
       "      <th>10009</th>\n",
       "      <td>0.000000</td>\n",
       "      <td>0.0</td>\n",
       "    </tr>\n",
       "    <tr>\n",
       "      <th>10010</th>\n",
       "      <td>351.979167</td>\n",
       "      <td>2.0</td>\n",
       "    </tr>\n",
       "  </tbody>\n",
       "</table>\n",
       "</div>"
      ],
      "text/plain": [
       "         AVG_PAID_AMT  AVG_PAID_CNT\n",
       "BANK_ID                            \n",
       "10001        0.000000           0.0\n",
       "10002        0.000000           0.0\n",
       "10004        0.000000           0.0\n",
       "10009        0.000000           0.0\n",
       "10010      351.979167           2.0"
      ]
     },
     "execution_count": 21,
     "metadata": {},
     "output_type": "execute_result"
    }
   ],
   "source": [
    "df2_df3_choosen_groupby.head()"
   ]
  },
  {
   "cell_type": "code",
   "execution_count": 22,
   "metadata": {},
   "outputs": [],
   "source": [
    "df2_df3_choosen_groupby_resetIndex = df2_df3_choosen_groupby.reset_index()"
   ]
  },
  {
   "cell_type": "code",
   "execution_count": 23,
   "metadata": {},
   "outputs": [
    {
     "data": {
      "text/html": [
       "<div>\n",
       "<style scoped>\n",
       "    .dataframe tbody tr th:only-of-type {\n",
       "        vertical-align: middle;\n",
       "    }\n",
       "\n",
       "    .dataframe tbody tr th {\n",
       "        vertical-align: top;\n",
       "    }\n",
       "\n",
       "    .dataframe thead th {\n",
       "        text-align: right;\n",
       "    }\n",
       "</style>\n",
       "<table border=\"1\" class=\"dataframe\">\n",
       "  <thead>\n",
       "    <tr style=\"text-align: right;\">\n",
       "      <th></th>\n",
       "      <th>BANK_ID</th>\n",
       "      <th>AVG_PAID_AMT</th>\n",
       "      <th>AVG_PAID_CNT</th>\n",
       "    </tr>\n",
       "  </thead>\n",
       "  <tbody>\n",
       "    <tr>\n",
       "      <th>0</th>\n",
       "      <td>10001</td>\n",
       "      <td>0.000000</td>\n",
       "      <td>0.0</td>\n",
       "    </tr>\n",
       "    <tr>\n",
       "      <th>1</th>\n",
       "      <td>10002</td>\n",
       "      <td>0.000000</td>\n",
       "      <td>0.0</td>\n",
       "    </tr>\n",
       "    <tr>\n",
       "      <th>2</th>\n",
       "      <td>10004</td>\n",
       "      <td>0.000000</td>\n",
       "      <td>0.0</td>\n",
       "    </tr>\n",
       "    <tr>\n",
       "      <th>3</th>\n",
       "      <td>10009</td>\n",
       "      <td>0.000000</td>\n",
       "      <td>0.0</td>\n",
       "    </tr>\n",
       "    <tr>\n",
       "      <th>4</th>\n",
       "      <td>10010</td>\n",
       "      <td>351.979167</td>\n",
       "      <td>2.0</td>\n",
       "    </tr>\n",
       "  </tbody>\n",
       "</table>\n",
       "</div>"
      ],
      "text/plain": [
       "   BANK_ID  AVG_PAID_AMT  AVG_PAID_CNT\n",
       "0    10001      0.000000           0.0\n",
       "1    10002      0.000000           0.0\n",
       "2    10004      0.000000           0.0\n",
       "3    10009      0.000000           0.0\n",
       "4    10010    351.979167           2.0"
      ]
     },
     "execution_count": 23,
     "metadata": {},
     "output_type": "execute_result"
    }
   ],
   "source": [
    "df2_df3_choosen_groupby_resetIndex.head()"
   ]
  },
  {
   "cell_type": "markdown",
   "metadata": {},
   "source": [
    "# Merge Dataframe df1 or df6 with df2_df3"
   ]
  },
  {
   "cell_type": "code",
   "execution_count": 24,
   "metadata": {},
   "outputs": [],
   "source": [
    "df1_df23= pd.merge(df1_drop, df2_df3_choosen_groupby_resetIndex, how = 'left', left_on=['BANK_ID'], right_on=['BANK_ID'])"
   ]
  },
  {
   "cell_type": "code",
   "execution_count": 25,
   "metadata": {},
   "outputs": [],
   "source": [
    "df6_df23= pd.merge(df6_drop, df2_df3_choosen_groupby_resetIndex, how = 'left', left_on=['BANK_ID'], right_on=['BANK_ID'])"
   ]
  },
  {
   "cell_type": "code",
   "execution_count": 26,
   "metadata": {},
   "outputs": [
    {
     "name": "stdout",
     "output_type": "stream",
     "text": [
      "<class 'pandas.core.frame.DataFrame'>\n",
      "Int64Index: 13199 entries, 0 to 13198\n",
      "Data columns (total 14 columns):\n",
      "BANK_ID                13199 non-null int64\n",
      "SA_AVG_BAL             13199 non-null float64\n",
      "SA_CNT                 13199 non-null float64\n",
      "CC_CNT                 13199 non-null int64\n",
      "HP_CNT                 13199 non-null int64\n",
      "TL_CNT                 13199 non-null int64\n",
      "TLi_CNT                13199 non-null int64\n",
      "INS_CREDIT_LIFE_CNT    13199 non-null int64\n",
      "INS_LIFE_CNT           13199 non-null int64\n",
      "INS_NON_LIFE_CNT       13199 non-null int64\n",
      "INS_CNT                13199 non-null int64\n",
      "DELQ_FLG               13199 non-null object\n",
      "AVG_PAID_AMT           11144 non-null float64\n",
      "AVG_PAID_CNT           11144 non-null float64\n",
      "dtypes: float64(4), int64(9), object(1)\n",
      "memory usage: 1.5+ MB\n"
     ]
    }
   ],
   "source": [
    "df1_df23.info()"
   ]
  },
  {
   "cell_type": "code",
   "execution_count": 27,
   "metadata": {},
   "outputs": [
    {
     "name": "stdout",
     "output_type": "stream",
     "text": [
      "<class 'pandas.core.frame.DataFrame'>\n",
      "Int64Index: 5657 entries, 0 to 5656\n",
      "Data columns (total 13 columns):\n",
      "BANK_ID                5657 non-null int64\n",
      "SA_AVG_BAL             5657 non-null float64\n",
      "SA_CNT                 5657 non-null float64\n",
      "CC_CNT                 5657 non-null int64\n",
      "HP_CNT                 5657 non-null int64\n",
      "TL_CNT                 5657 non-null int64\n",
      "TLi_CNT                5657 non-null int64\n",
      "INS_CREDIT_LIFE_CNT    5657 non-null int64\n",
      "INS_LIFE_CNT           5657 non-null int64\n",
      "INS_NON_LIFE_CNT       5657 non-null int64\n",
      "INS_CNT                5657 non-null int64\n",
      "AVG_PAID_AMT           4782 non-null float64\n",
      "AVG_PAID_CNT           4782 non-null float64\n",
      "dtypes: float64(4), int64(9)\n",
      "memory usage: 618.7 KB\n"
     ]
    }
   ],
   "source": [
    "df6_df23.info()"
   ]
  },
  {
   "cell_type": "markdown",
   "metadata": {},
   "source": [
    "# Fill Missing Value with 0, because it means that BANK_ID doesn't have any TELCO_ID"
   ]
  },
  {
   "cell_type": "code",
   "execution_count": 28,
   "metadata": {},
   "outputs": [],
   "source": [
    "df1_df23[['AVG_PAID_AMT','AVG_PAID_CNT']] = df1_df23[['AVG_PAID_AMT','AVG_PAID_CNT']].fillna(value=0)\n",
    "df6_df23[['AVG_PAID_AMT','AVG_PAID_CNT']] = df6_df23[['AVG_PAID_AMT','AVG_PAID_CNT']].fillna(value=0)"
   ]
  },
  {
   "cell_type": "code",
   "execution_count": 29,
   "metadata": {},
   "outputs": [],
   "source": [
    "df1_df23.set_index('BANK_ID', inplace= True)"
   ]
  },
  {
   "cell_type": "code",
   "execution_count": 30,
   "metadata": {},
   "outputs": [],
   "source": [
    "df6_df23.set_index('BANK_ID', inplace= True)"
   ]
  },
  {
   "cell_type": "markdown",
   "metadata": {},
   "source": [
    "# Using LabelEncoder to change categorical data into numerical data"
   ]
  },
  {
   "cell_type": "code",
   "execution_count": 31,
   "metadata": {},
   "outputs": [],
   "source": [
    "le = LabelEncoder()\n",
    "arr_delq= df1_df23.DELQ_FLG.unique()\n",
    "le.fit(arr_delq)\n",
    "df1_df23['DELQ_FLG'] = le.transform(df1_df23['DELQ_FLG'])"
   ]
  },
  {
   "cell_type": "code",
   "execution_count": 32,
   "metadata": {},
   "outputs": [
    {
     "data": {
      "text/plain": [
       "0    12268\n",
       "1      931\n",
       "Name: DELQ_FLG, dtype: int64"
      ]
     },
     "execution_count": 32,
     "metadata": {},
     "output_type": "execute_result"
    }
   ],
   "source": [
    "df1_df23['DELQ_FLG'].value_counts()"
   ]
  },
  {
   "cell_type": "code",
   "execution_count": 33,
   "metadata": {},
   "outputs": [
    {
     "data": {
      "text/plain": [
       "7.5888490381480285"
      ]
     },
     "execution_count": 33,
     "metadata": {},
     "output_type": "execute_result"
    }
   ],
   "source": [
    "931/12268 * 100"
   ]
  },
  {
   "cell_type": "code",
   "execution_count": 34,
   "metadata": {},
   "outputs": [
    {
     "data": {
      "text/html": [
       "<div>\n",
       "<style scoped>\n",
       "    .dataframe tbody tr th:only-of-type {\n",
       "        vertical-align: middle;\n",
       "    }\n",
       "\n",
       "    .dataframe tbody tr th {\n",
       "        vertical-align: top;\n",
       "    }\n",
       "\n",
       "    .dataframe thead th {\n",
       "        text-align: right;\n",
       "    }\n",
       "</style>\n",
       "<table border=\"1\" class=\"dataframe\">\n",
       "  <thead>\n",
       "    <tr style=\"text-align: right;\">\n",
       "      <th></th>\n",
       "      <th>SA_AVG_BAL</th>\n",
       "      <th>SA_CNT</th>\n",
       "      <th>CC_CNT</th>\n",
       "      <th>HP_CNT</th>\n",
       "      <th>TL_CNT</th>\n",
       "      <th>TLi_CNT</th>\n",
       "      <th>INS_CREDIT_LIFE_CNT</th>\n",
       "      <th>INS_LIFE_CNT</th>\n",
       "      <th>INS_NON_LIFE_CNT</th>\n",
       "      <th>INS_CNT</th>\n",
       "      <th>DELQ_FLG</th>\n",
       "      <th>AVG_PAID_AMT</th>\n",
       "      <th>AVG_PAID_CNT</th>\n",
       "    </tr>\n",
       "    <tr>\n",
       "      <th>BANK_ID</th>\n",
       "      <th></th>\n",
       "      <th></th>\n",
       "      <th></th>\n",
       "      <th></th>\n",
       "      <th></th>\n",
       "      <th></th>\n",
       "      <th></th>\n",
       "      <th></th>\n",
       "      <th></th>\n",
       "      <th></th>\n",
       "      <th></th>\n",
       "      <th></th>\n",
       "      <th></th>\n",
       "    </tr>\n",
       "  </thead>\n",
       "  <tbody>\n",
       "    <tr>\n",
       "      <th>13398</th>\n",
       "      <td>817.676333</td>\n",
       "      <td>1.0</td>\n",
       "      <td>2</td>\n",
       "      <td>0</td>\n",
       "      <td>0</td>\n",
       "      <td>0</td>\n",
       "      <td>0</td>\n",
       "      <td>0</td>\n",
       "      <td>0</td>\n",
       "      <td>0</td>\n",
       "      <td>0</td>\n",
       "      <td>72.916667</td>\n",
       "      <td>1.0</td>\n",
       "    </tr>\n",
       "    <tr>\n",
       "      <th>16152</th>\n",
       "      <td>1599.595667</td>\n",
       "      <td>1.0</td>\n",
       "      <td>0</td>\n",
       "      <td>0</td>\n",
       "      <td>0</td>\n",
       "      <td>0</td>\n",
       "      <td>0</td>\n",
       "      <td>0</td>\n",
       "      <td>0</td>\n",
       "      <td>0</td>\n",
       "      <td>0</td>\n",
       "      <td>0.000000</td>\n",
       "      <td>0.0</td>\n",
       "    </tr>\n",
       "    <tr>\n",
       "      <th>18560</th>\n",
       "      <td>0.000000</td>\n",
       "      <td>0.0</td>\n",
       "      <td>0</td>\n",
       "      <td>0</td>\n",
       "      <td>0</td>\n",
       "      <td>0</td>\n",
       "      <td>0</td>\n",
       "      <td>0</td>\n",
       "      <td>0</td>\n",
       "      <td>0</td>\n",
       "      <td>0</td>\n",
       "      <td>0.000000</td>\n",
       "      <td>0.0</td>\n",
       "    </tr>\n",
       "    <tr>\n",
       "      <th>18568</th>\n",
       "      <td>0.000000</td>\n",
       "      <td>0.0</td>\n",
       "      <td>0</td>\n",
       "      <td>0</td>\n",
       "      <td>0</td>\n",
       "      <td>0</td>\n",
       "      <td>0</td>\n",
       "      <td>0</td>\n",
       "      <td>0</td>\n",
       "      <td>0</td>\n",
       "      <td>0</td>\n",
       "      <td>0.000000</td>\n",
       "      <td>0.0</td>\n",
       "    </tr>\n",
       "    <tr>\n",
       "      <th>26717</th>\n",
       "      <td>0.000000</td>\n",
       "      <td>0.0</td>\n",
       "      <td>0</td>\n",
       "      <td>0</td>\n",
       "      <td>0</td>\n",
       "      <td>0</td>\n",
       "      <td>0</td>\n",
       "      <td>0</td>\n",
       "      <td>0</td>\n",
       "      <td>0</td>\n",
       "      <td>0</td>\n",
       "      <td>0.000000</td>\n",
       "      <td>0.0</td>\n",
       "    </tr>\n",
       "  </tbody>\n",
       "</table>\n",
       "</div>"
      ],
      "text/plain": [
       "          SA_AVG_BAL  SA_CNT  CC_CNT  HP_CNT  TL_CNT  TLi_CNT  \\\n",
       "BANK_ID                                                         \n",
       "13398     817.676333     1.0       2       0       0        0   \n",
       "16152    1599.595667     1.0       0       0       0        0   \n",
       "18560       0.000000     0.0       0       0       0        0   \n",
       "18568       0.000000     0.0       0       0       0        0   \n",
       "26717       0.000000     0.0       0       0       0        0   \n",
       "\n",
       "         INS_CREDIT_LIFE_CNT  INS_LIFE_CNT  INS_NON_LIFE_CNT  INS_CNT  \\\n",
       "BANK_ID                                                                 \n",
       "13398                      0             0                 0        0   \n",
       "16152                      0             0                 0        0   \n",
       "18560                      0             0                 0        0   \n",
       "18568                      0             0                 0        0   \n",
       "26717                      0             0                 0        0   \n",
       "\n",
       "         DELQ_FLG  AVG_PAID_AMT  AVG_PAID_CNT  \n",
       "BANK_ID                                        \n",
       "13398           0     72.916667           1.0  \n",
       "16152           0      0.000000           0.0  \n",
       "18560           0      0.000000           0.0  \n",
       "18568           0      0.000000           0.0  \n",
       "26717           0      0.000000           0.0  "
      ]
     },
     "execution_count": 34,
     "metadata": {},
     "output_type": "execute_result"
    }
   ],
   "source": [
    "df1_df23.head()"
   ]
  },
  {
   "cell_type": "code",
   "execution_count": 35,
   "metadata": {},
   "outputs": [],
   "source": [
    "df1_df23.to_csv('train.csv')\n",
    "df6_df23.to_csv('test.csv')"
   ]
  },
  {
   "cell_type": "code",
   "execution_count": 185,
   "metadata": {},
   "outputs": [
    {
     "data": {
      "text/plain": [
       "<matplotlib.axes._subplots.AxesSubplot at 0x1a25e41668>"
      ]
     },
     "execution_count": 185,
     "metadata": {},
     "output_type": "execute_result"
    },
    {
     "data": {
      "image/png": "[encoded data removed]",
      "text/plain": [
       "<matplotlib.figure.Figure at 0x1a1143f8d0>"
      ]
     },
     "metadata": {},
     "output_type": "display_data"
    }
   ],
   "source": [
    "sns.heatmap(df1_df23.corr())"
   ]
  },
  {
   "cell_type": "markdown",
   "metadata": {},
   "source": [
    "# ------------------------------------------------------------------------------\n",
    "# Check Feature Importance"
   ]
  },
  {
   "cell_type": "code",
   "execution_count": 36,
   "metadata": {},
   "outputs": [],
   "source": [
    "X = df1_df23.drop('DELQ_FLG', axis =1)"
   ]
  },
  {
   "cell_type": "code",
   "execution_count": 37,
   "metadata": {},
   "outputs": [],
   "source": [
    "y = df1_df23['DELQ_FLG']"
   ]
  },
  {
   "cell_type": "code",
   "execution_count": 38,
   "metadata": {},
   "outputs": [
    {
     "data": {
      "text/plain": [
       "BANK_ID\n",
       "13398    0\n",
       "16152    0\n",
       "18560    0\n",
       "18568    0\n",
       "26717    0\n",
       "Name: DELQ_FLG, dtype: int64"
      ]
     },
     "execution_count": 38,
     "metadata": {},
     "output_type": "execute_result"
    }
   ],
   "source": [
    "y.head()"
   ]
  },
  {
   "cell_type": "code",
   "execution_count": 39,
   "metadata": {},
   "outputs": [],
   "source": [
    "X_train, X_test, y_train, y_test = train_test_split(X,y, test_size = 0.2, random_state = 42, stratify = y)"
   ]
  },
  {
   "cell_type": "code",
   "execution_count": 40,
   "metadata": {},
   "outputs": [],
   "source": [
    "scaler = MinMaxScaler()\n",
    "X[['SA_AVG_BAL', 'SA_CNT']] = scaler.fit_transform(X[['SA_AVG_BAL', 'SA_CNT']])\n"
   ]
  },
  {
   "cell_type": "code",
   "execution_count": 41,
   "metadata": {},
   "outputs": [],
   "source": [
    "rf = RandomForestClassifier(random_state= 42, class_weight= 'balanced')"
   ]
  },
  {
   "cell_type": "code",
   "execution_count": 42,
   "metadata": {},
   "outputs": [
    {
     "data": {
      "text/plain": [
       "RandomForestClassifier(bootstrap=True, class_weight='balanced',\n",
       "            criterion='gini', max_depth=None, max_features='auto',\n",
       "            max_leaf_nodes=None, min_impurity_decrease=0.0,\n",
       "            min_impurity_split=None, min_samples_leaf=1,\n",
       "            min_samples_split=2, min_weight_fraction_leaf=0.0,\n",
       "            n_estimators=10, n_jobs=1, oob_score=False, random_state=42,\n",
       "            verbose=0, warm_start=False)"
      ]
     },
     "execution_count": 42,
     "metadata": {},
     "output_type": "execute_result"
    }
   ],
   "source": [
    "rf.fit(X,y)"
   ]
  },
  {
   "cell_type": "code",
   "execution_count": 43,
   "metadata": {},
   "outputs": [
    {
     "data": {
      "text/plain": [
       "Text(0.5,1,'Feature importances')"
      ]
     },
     "execution_count": 43,
     "metadata": {},
     "output_type": "execute_result"
    },
    {
     "data": {
      "image/png": "[encoded data removed]",
      "text/plain": [
       "<matplotlib.figure.Figure at 0x10db8e780>"
      ]
     },
     "metadata": {},
     "output_type": "display_data"
    }
   ],
   "source": [
    "(pd.Series(rf.feature_importances_, index=X.columns).nlargest(5).sort_values(ascending= True)\n",
    "   .plot(kind='barh'))\n",
    "plt.title('Feature importances')"
   ]
  },
  {
   "cell_type": "markdown",
   "metadata": {},
   "source": [
    "# ------------------------------------------------------------------------------\n",
    "# Create Pipeline"
   ]
  },
  {
   "cell_type": "code",
   "execution_count": 44,
   "metadata": {},
   "outputs": [],
   "source": [
    "pl_svc = Pipeline([\n",
    "    ('scale', MinMaxScaler(feature_range=(0, 1))),\n",
    "    ('svc', SVC(class_weight= 'balanced'))\n",
    "])"
   ]
  },
  {
   "cell_type": "code",
   "execution_count": 45,
   "metadata": {},
   "outputs": [],
   "source": [
    "pl_lr = Pipeline([\n",
    "    ('scale', MinMaxScaler(feature_range=(0, 1))),\n",
    "    ('lr', LogisticRegression(class_weight='balanced'))\n",
    "])"
   ]
  },
  {
   "cell_type": "code",
   "execution_count": 46,
   "metadata": {},
   "outputs": [],
   "source": [
    "pl_knn = Pipeline([\n",
    "    ('scale', MinMaxScaler(feature_range=(0, 1))),\n",
    "    ('knn', KNeighborsClassifier(n_neighbors = 3))\n",
    "])"
   ]
  },
  {
   "cell_type": "code",
   "execution_count": 47,
   "metadata": {},
   "outputs": [],
   "source": [
    "pl_rf = Pipeline([\n",
    "    ('scale', MinMaxScaler(feature_range=(0, 1))),\n",
    "    ('rf', RandomForestClassifier(random_state=42))\n",
    "])"
   ]
  },
  {
   "cell_type": "markdown",
   "metadata": {},
   "source": [
    "# try to use  model directly to the data"
   ]
  },
  {
   "cell_type": "code",
   "execution_count": 48,
   "metadata": {},
   "outputs": [
    {
     "name": "stdout",
     "output_type": "stream",
     "text": [
      "[[1030 1424]\n",
      " [  22  164]]\n"
     ]
    },
    {
     "data": {
      "text/plain": [
       "'             precision    recall  f1-score   support\\n\\n          0       0.98      0.42      0.59      2454\\n          1       0.10      0.88      0.18       186\\n\\navg / total       0.92      0.45      0.56      2640\\n'"
      ]
     },
     "execution_count": 48,
     "metadata": {},
     "output_type": "execute_result"
    }
   ],
   "source": [
    "pl_svc.fit(X_train, y_train)\n",
    "y_pred = pl_svc.predict(X_test)\n",
    "print(confusion_matrix(y_test, y_pred))\n",
    "classification_report(y_test,y_pred)"
   ]
  },
  {
   "cell_type": "code",
   "execution_count": 49,
   "metadata": {},
   "outputs": [
    {
     "name": "stdout",
     "output_type": "stream",
     "text": [
      "[[1212 1242]\n",
      " [  31  155]]\n"
     ]
    },
    {
     "data": {
      "text/plain": [
       "'             precision    recall  f1-score   support\\n\\n          0       0.98      0.49      0.66      2454\\n          1       0.11      0.83      0.20       186\\n\\navg / total       0.91      0.52      0.62      2640\\n'"
      ]
     },
     "execution_count": 49,
     "metadata": {},
     "output_type": "execute_result"
    }
   ],
   "source": [
    "pl_lr.fit(X_train, y_train)\n",
    "y_pred = pl_lr.predict(X_test)\n",
    "print(confusion_matrix(y_test, y_pred))\n",
    "classification_report(y_test,y_pred)"
   ]
  },
  {
   "cell_type": "code",
   "execution_count": 50,
   "metadata": {},
   "outputs": [
    {
     "name": "stdout",
     "output_type": "stream",
     "text": [
      "[[2414   40]\n",
      " [ 183    3]]\n"
     ]
    },
    {
     "data": {
      "text/plain": [
       "'             precision    recall  f1-score   support\\n\\n          0       0.93      0.98      0.96      2454\\n          1       0.07      0.02      0.03       186\\n\\navg / total       0.87      0.92      0.89      2640\\n'"
      ]
     },
     "execution_count": 50,
     "metadata": {},
     "output_type": "execute_result"
    }
   ],
   "source": [
    "pl_knn.fit(X_train, y_train)\n",
    "y_pred = pl_knn.predict(X_test)\n",
    "print(confusion_matrix(y_test, y_pred))\n",
    "classification_report(y_test,y_pred)"
   ]
  },
  {
   "cell_type": "code",
   "execution_count": 51,
   "metadata": {},
   "outputs": [
    {
     "name": "stdout",
     "output_type": "stream",
     "text": [
      "[[2398   56]\n",
      " [ 178    8]]\n"
     ]
    },
    {
     "data": {
      "text/plain": [
       "'             precision    recall  f1-score   support\\n\\n          0       0.93      0.98      0.95      2454\\n          1       0.12      0.04      0.06       186\\n\\navg / total       0.87      0.91      0.89      2640\\n'"
      ]
     },
     "execution_count": 51,
     "metadata": {},
     "output_type": "execute_result"
    }
   ],
   "source": [
    "pl_rf.fit(X_train, y_train)\n",
    "y_pred = pl_rf.predict(X_test)\n",
    "print(confusion_matrix(y_test, y_pred))\n",
    "print(\n",
    "    classification_report(y_test,y_pred))"
   ]
  },
  {
   "cell_type": "markdown",
   "metadata": {},
   "source": [
    "# ------------------------------------------------------------------------------\n",
    "\n",
    "# try to oversampling using SMOTE to the data and try to predict"
   ]
  },
  {
   "cell_type": "code",
   "execution_count": 65,
   "metadata": {},
   "outputs": [],
   "source": [
    "sm = SMOTE(random_state=42)\n",
    "X_sm, y_sm = sm.fit_sample(X, y)"
   ]
  },
  {
   "cell_type": "code",
   "execution_count": 66,
   "metadata": {},
   "outputs": [
    {
     "data": {
      "image/png": "[encoded data removed]",
      "text/plain": [
       "<matplotlib.figure.Figure at 0x1a1fa51cc0>"
      ]
     },
     "metadata": {},
     "output_type": "display_data"
    }
   ],
   "source": [
    "pca = PCA(n_components=2)\n",
    "# Fit and transform x to visualise inside a 2D feature space\n",
    "X_vis = pca.fit_transform(X)\n",
    "\n",
    "# Apply SMOTE \n",
    "sm = SMOTE(random_state=42)\n",
    "X_resampled, y_resampled = sm.fit_sample(X, y)\n",
    "X_res_vis = pca.transform(X_resampled)\n",
    "\n",
    "# Two subplots, unpack the axes array immediately\n",
    "f, (ax1, ax2) = plt.subplots(1, 2)\n",
    "\n",
    "c0 = ax1.scatter(X_vis[y == 0, 0], X_vis[y == 0, 1], label=\"Class #0\",\n",
    "                 alpha=0.5)\n",
    "c1 = ax1.scatter(X_vis[y == 1, 0], X_vis[y == 1, 1], label=\"Class #1\",\n",
    "                 alpha=0.5)\n",
    "ax1.set_title('Original set')\n",
    "\n",
    "ax2.scatter(X_res_vis[y_resampled == 0, 0], X_res_vis[y_resampled == 0, 1],\n",
    "            label=\"Class N\", alpha=0.5)\n",
    "ax2.scatter(X_res_vis[y_resampled == 1, 0], X_res_vis[y_resampled == 1, 1],\n",
    "            label=\"Class Y\", alpha=0.5)\n",
    "ax2.set_title('SMOTE')\n",
    "\n",
    "# make nice plotting\n",
    "for ax in (ax1, ax2):\n",
    "    ax.spines['top'].set_visible(False)\n",
    "    ax.spines['right'].set_visible(False)\n",
    "    ax.get_xaxis().tick_bottom()\n",
    "    ax.get_yaxis().tick_left()\n",
    "    ax.spines['left'].set_position(('outward', 10))\n",
    "    ax.spines['bottom'].set_position(('outward', 10))\n",
    "    #ax.set_xlim([0, 30])\n",
    "    #ax.set_ylim([-1, 10])\n",
    "\n",
    "f.legend((c0, c1), ('Class #N', 'Class #Y'), loc='lower center',\n",
    "         ncol=2, labelspacing=0.)\n",
    "plt.tight_layout(pad=3)\n",
    "plt.show()"
   ]
  },
  {
   "cell_type": "code",
   "execution_count": 203,
   "metadata": {},
   "outputs": [
    {
     "name": "stdout",
     "output_type": "stream",
     "text": [
      "             precision    recall  f1-score   support\n",
      "\n",
      "          0       0.95      0.67      0.78      2454\n",
      "          1       0.12      0.58      0.19       186\n",
      "\n",
      "avg / total       0.90      0.66      0.74      2640\n",
      "\n",
      "AUC: 0.6828647106764467\n"
     ]
    }
   ],
   "source": [
    "pl_rf.fit(X_resampled, y_resampled)\n",
    "y_pred = pl_rf.predict(X_test)\n",
    "y_prob = pl_rf.predict_proba(X_test)[:,1]\n",
    "#(confusion_matrix(y_test, y_pred))\n",
    "print(classification_report(y_test,y_pred))\n",
    "print(\"AUC: {}\".format(roc_auc_score(y_test, y_prob)))"
   ]
  },
  {
   "cell_type": "code",
   "execution_count": 55,
   "metadata": {},
   "outputs": [
    {
     "name": "stdout",
     "output_type": "stream",
     "text": [
      "[[2454    0]\n",
      " [ 185    1]]\n"
     ]
    },
    {
     "data": {
      "text/plain": [
       "'             precision    recall  f1-score   support\\n\\n          0       0.93      1.00      0.96      2454\\n          1       1.00      0.01      0.01       186\\n\\navg / total       0.93      0.93      0.90      2640\\n'"
      ]
     },
     "execution_count": 55,
     "metadata": {},
     "output_type": "execute_result"
    }
   ],
   "source": [
    "pl_knn.fit(X_resampled, y_resampled)\n",
    "y_pred = pl_knn.predict(X_test)\n",
    "print(confusion_matrix(y_test, y_pred))\n",
    "classification_report(y_test,y_pred)"
   ]
  },
  {
   "cell_type": "code",
   "execution_count": 202,
   "metadata": {},
   "outputs": [
    {
     "name": "stdout",
     "output_type": "stream",
     "text": [
      "[[2189  265]\n",
      " [ 146   40]]\n",
      "             precision    recall  f1-score   support\n",
      "\n",
      "          0       0.94      0.89      0.91      2454\n",
      "          1       0.13      0.22      0.16       186\n",
      "\n",
      "avg / total       0.88      0.84      0.86      2640\n",
      "\n",
      "AUC: 0.6910957313493004\n"
     ]
    }
   ],
   "source": [
    "ac = AdaBoostClassifier(random_state= 42)\n",
    "\n",
    "ac.fit(X_resampled, y_resampled)\n",
    "y_pred = ac.predict(X_test)\n",
    "y_prob = ac.predict_proba(X_test)[:,1]\n",
    "print(confusion_matrix(y_test, y_pred))\n",
    "print (classification_report(y_test,y_pred))\n",
    "print(\"AUC: {}\".format(roc_auc_score(y_test, y_prob)))"
   ]
  },
  {
   "cell_type": "code",
   "execution_count": 73,
   "metadata": {},
   "outputs": [
    {
     "name": "stdout",
     "output_type": "stream",
     "text": [
      "Classification of original dataset with Bagging (scikit-learn)\n"
     ]
    },
    {
     "data": {
      "image/png": "[encoded data removed]",
      "text/plain": [
       "<matplotlib.figure.Figure at 0x1a20a03c88>"
      ]
     },
     "metadata": {},
     "output_type": "display_data"
    },
    {
     "name": "stdout",
     "output_type": "stream",
     "text": [
      "Recall=0.059 \n",
      "Precision=0.196\n",
      "F1=0.091\n",
      "Average precision-recall score: 0.098\n"
     ]
    },
    {
     "data": {
      "image/png": "[encoded data removed]",
      "text/plain": [
       "<matplotlib.figure.Figure at 0x1a20a032e8>"
      ]
     },
     "metadata": {},
     "output_type": "display_data"
    },
    {
     "name": "stdout",
     "output_type": "stream",
     "text": [
      "Classification of original dataset with BalancedBagging (imbalanced-learn)\n"
     ]
    },
    {
     "data": {
      "image/png": "[encoded data removed]",
      "text/plain": [
       "<matplotlib.figure.Figure at 0x1a20abed30>"
      ]
     },
     "metadata": {},
     "output_type": "display_data"
    },
    {
     "name": "stdout",
     "output_type": "stream",
     "text": [
      "Recall=0.500 \n",
      "Precision=0.112\n",
      "F1=0.183\n",
      "Average precision-recall score: 0.102\n"
     ]
    },
    {
     "data": {
      "image/png": "[encoded data removed]",
      "text/plain": [
       "<matplotlib.figure.Figure at 0x1a20c22898>"
      ]
     },
     "metadata": {},
     "output_type": "display_data"
    }
   ],
   "source": [
    "from sklearn.ensemble import BaggingClassifier\n",
    "from imblearn.ensemble import BalancedBaggingClassifier\n",
    "\n",
    "from imblearn.metrics import classification_report_imbalanced\n",
    "\n",
    "bagging = BaggingClassifier(random_state=0)\n",
    "balanced_bagging = BalancedBaggingClassifier(random_state=0)\n",
    "\n",
    "bagging.fit(X_train, y_train)\n",
    "balanced_bagging.fit(X_train, y_train)\n",
    "\n",
    "#Make predictions\n",
    "print('Classification of original dataset with Bagging (scikit-learn)')\n",
    "y_pred = bagging.predict(X_test)\n",
    "try:\n",
    "    scores = bagging.decision_function(X_test)\n",
    "except:\n",
    "    scores = bagging.predict_proba(X_test)[:,1]\n",
    "\n",
    "#Make plots\n",
    "plot_cm(bagging, y_pred)\n",
    "plot_aucprc(bagging, scores)\n",
    "\n",
    "#Make predictions\n",
    "print('Classification of original dataset with BalancedBagging (imbalanced-learn)')\n",
    "y_pred = balanced_bagging.predict(X_test)\n",
    "try:\n",
    "    scores = balanced_bagging.decision_function(X_test)\n",
    "except:\n",
    "    scores = balanced_bagging.predict_proba(X_test)[:,1]\n",
    "\n",
    "#Make plots\n",
    "plot_cm(balanced_bagging, y_pred)\n",
    "plot_aucprc(balanced_bagging, scores)"
   ]
  },
  {
   "cell_type": "code",
   "execution_count": 95,
   "metadata": {},
   "outputs": [
    {
     "data": {
      "text/plain": [
       "(10559,)"
      ]
     },
     "execution_count": 95,
     "metadata": {},
     "output_type": "execute_result"
    }
   ],
   "source": [
    "y_resample.shape"
   ]
  },
  {
   "cell_type": "code",
   "execution_count": 204,
   "metadata": {},
   "outputs": [
    {
     "name": "stdout",
     "output_type": "stream",
     "text": [
      "[[2204  250]\n",
      " [ 152   34]]\n",
      "             precision    recall  f1-score   support\n",
      "\n",
      "          0       0.94      0.90      0.92      2454\n",
      "          1       0.12      0.18      0.14       186\n",
      "\n",
      "avg / total       0.88      0.85      0.86      2640\n",
      "\n",
      "AUC: 0.660364688767954\n"
     ]
    }
   ],
   "source": [
    "clf1.fit(X_resampled, y_resampled)\n",
    "y_pred = clf1.predict(X_test)\n",
    "y_prob = clf1.predict_proba(X_test)[:,1]\n",
    "print(confusion_matrix(y_test, y_pred))\n",
    "print(classification_report(y_test,y_pred))\n",
    "print(\"AUC: {}\".format(roc_auc_score(y_test, y_prob)))"
   ]
  },
  {
   "cell_type": "code",
   "execution_count": 112,
   "metadata": {},
   "outputs": [],
   "source": [
    "clf1 = LogisticRegression(solver='lbfgs', multi_class='multinomial',random_state=42, )\n",
    "clf2 = RandomForestClassifier(n_estimators=42, random_state=42, class_weight= 'balanced', max_depth= 3, max_features=5)\n",
    "clf3 = GaussianNB()"
   ]
  },
  {
   "cell_type": "code",
   "execution_count": 113,
   "metadata": {},
   "outputs": [
    {
     "name": "stdout",
     "output_type": "stream",
     "text": [
      "[[1513  941]\n",
      " [  56  130]]\n",
      "             precision    recall  f1-score   support\n",
      "\n",
      "          0       0.96      0.62      0.75      2454\n",
      "          1       0.12      0.70      0.21       186\n",
      "\n",
      "avg / total       0.90      0.62      0.71      2640\n",
      "\n"
     ]
    },
    {
     "name": "stderr",
     "output_type": "stream",
     "text": [
      "/anaconda3/lib/python3.6/site-packages/sklearn/preprocessing/label.py:151: DeprecationWarning: The truth value of an empty array is ambiguous. Returning False, but in future this will result in an error. Use `array.size > 0` to check that an array is not empty.\n",
      "  if diff:\n"
     ]
    }
   ],
   "source": [
    "eclf1 = VotingClassifier(estimators=[\n",
    "('lr', clf1), ('rf', clf2), ('gnb', clf3)], voting='hard')\n",
    "eclf1 = eclf1.fit(X_train, y_train)\n",
    "y_pred = eclf1.predict(X_test)\n",
    "\n",
    "print(confusion_matrix(y_test, y_pred))\n",
    "print(classification_report(y_test,y_pred))"
   ]
  },
  {
   "cell_type": "code",
   "execution_count": 111,
   "metadata": {},
   "outputs": [
    {
     "name": "stdout",
     "output_type": "stream",
     "text": [
      "[[1853  601]\n",
      " [  84  102]]\n",
      "             precision    recall  f1-score   support\n",
      "\n",
      "          0       0.96      0.76      0.84      2454\n",
      "          1       0.15      0.55      0.23       186\n",
      "\n",
      "avg / total       0.90      0.74      0.80      2640\n",
      "\n"
     ]
    },
    {
     "name": "stderr",
     "output_type": "stream",
     "text": [
      "/anaconda3/lib/python3.6/site-packages/sklearn/preprocessing/label.py:151: DeprecationWarning: The truth value of an empty array is ambiguous. Returning False, but in future this will result in an error. Use `array.size > 0` to check that an array is not empty.\n",
      "  if diff:\n"
     ]
    }
   ],
   "source": [
    "eclf2 = VotingClassifier(estimators=[\n",
    "('lr', clf1), ('rf', clf2), ('gnb', clf3)], voting='soft')\n",
    "eclf2 = eclf2.fit(X_train, y_train)\n",
    "y_pred = eclf2.predict(X_test)\n",
    "\n",
    "print(confusion_matrix(y_test, y_pred))\n",
    "print(classification_report(y_test,y_pred))"
   ]
  },
  {
   "cell_type": "code",
   "execution_count": 87,
   "metadata": {},
   "outputs": [
    {
     "name": "stdout",
     "output_type": "stream",
     "text": [
      "[[2132  322]\n",
      " [ 142   44]]\n",
      "             precision    recall  f1-score   support\n",
      "\n",
      "          0       0.94      0.87      0.90      2454\n",
      "          1       0.12      0.24      0.16       186\n",
      "\n",
      "avg / total       0.88      0.82      0.85      2640\n",
      "\n"
     ]
    },
    {
     "name": "stderr",
     "output_type": "stream",
     "text": [
      "/anaconda3/lib/python3.6/site-packages/sklearn/preprocessing/label.py:151: DeprecationWarning: The truth value of an empty array is ambiguous. Returning False, but in future this will result in an error. Use `array.size > 0` to check that an array is not empty.\n",
      "  if diff:\n"
     ]
    }
   ],
   "source": [
    "eclf3 = VotingClassifier(estimators=[\n",
    "('lr', clf1), ('rf', clf2), ('gnb', clf3)], voting='soft', weights=[5,20,5],flatten_transform=True)\n",
    "eclf3 = eclf3.fit(X_train, y_train)\n",
    "y_pred = eclf3.predict(X_test)\n",
    "\n",
    "print(confusion_matrix(y_test, y_pred))\n",
    "print(classification_report(y_test,y_pred))"
   ]
  },
  {
   "cell_type": "code",
   "execution_count": 91,
   "metadata": {},
   "outputs": [
    {
     "name": "stdout",
     "output_type": "stream",
     "text": [
      "[[2174  280]\n",
      " [ 147   39]]\n",
      "             precision    recall  f1-score   support\n",
      "\n",
      "          0       0.94      0.89      0.91      2454\n",
      "          1       0.12      0.21      0.15       186\n",
      "\n",
      "avg / total       0.88      0.84      0.86      2640\n",
      "\n"
     ]
    },
    {
     "name": "stderr",
     "output_type": "stream",
     "text": [
      "/anaconda3/lib/python3.6/site-packages/sklearn/preprocessing/label.py:151: DeprecationWarning: The truth value of an empty array is ambiguous. Returning False, but in future this will result in an error. Use `array.size > 0` to check that an array is not empty.\n",
      "  if diff:\n"
     ]
    }
   ],
   "source": [
    "eclf3 = VotingClassifier(estimators=[\n",
    "('lr', clf1), ('rf', clf2), ('gnb', clf3)], voting='soft', weights=[1,3,2],flatten_transform=True)\n",
    "eclf3 = eclf3.fit(X_resampled, y_resampled)\n",
    "y_pred = eclf3.predict(X_test)\n",
    "\n",
    "print(confusion_matrix(y_test, y_pred))\n",
    "print(classification_report(y_test,y_pred))"
   ]
  },
  {
   "cell_type": "markdown",
   "metadata": {},
   "source": [
    "# ----------------------------------------------------------------\n",
    "# Try to ensemble stacking model with Extratrees and Random Forest for first stack and  VotingClassifier for second stack"
   ]
  },
  {
   "cell_type": "code",
   "execution_count": 200,
   "metadata": {},
   "outputs": [],
   "source": [
    "rf = RandomForestClassifier(criterion='entropy',random_state=42, n_estimators=42,  class_weight= 'balanced', max_depth= 3, max_leaf_nodes= 2000, max_features=7)"
   ]
  },
  {
   "cell_type": "code",
   "execution_count": 201,
   "metadata": {},
   "outputs": [
    {
     "name": "stdout",
     "output_type": "stream",
     "text": [
      "[[1411 1043]\n",
      " [  42  144]]\n",
      "             precision    recall  f1-score   support\n",
      "\n",
      "          0       0.97      0.57      0.72      2454\n",
      "          1       0.12      0.77      0.21       186\n",
      "\n",
      "avg / total       0.91      0.59      0.69      2640\n",
      "\n",
      "AUC: 0.7188494097852092\n"
     ]
    }
   ],
   "source": [
    "rf.fit(X_train, y_train)\n",
    "y_pred = rf.predict(X_test)\n",
    "y_prob = rf.predict_proba(X_test)[:,1]\n",
    "print(confusion_matrix(y_test, y_pred))\n",
    "print(classification_report(y_test,y_pred))\n",
    "print(\"AUC: {}\".format(roc_auc_score(y_test, y_prob)))"
   ]
  },
  {
   "cell_type": "code",
   "execution_count": 149,
   "metadata": {},
   "outputs": [],
   "source": [
    "param_grid = {'n_estimators': [42], 'criterion': ['gini', 'entropy'], 'max_leaf_nodes':[2000], 'max_depth':[2,3,5],'min_samples_leaf':[5,10,20], 'max_features':[3,5,7], 'random_state':[42]}"
   ]
  },
  {
   "cell_type": "code",
   "execution_count": 152,
   "metadata": {},
   "outputs": [],
   "source": [
    "rf_cv = GridSearchCV(rf, param_grid,cv = 5, scoring= 'roc_auc')"
   ]
  },
  {
   "cell_type": "code",
   "execution_count": 153,
   "metadata": {},
   "outputs": [
    {
     "data": {
      "text/plain": [
       "GridSearchCV(cv=5, error_score='raise',\n",
       "       estimator=RandomForestClassifier(bootstrap=True, class_weight='balanced',\n",
       "            criterion='gini', max_depth=2, max_features=3,\n",
       "            max_leaf_nodes=None, min_impurity_decrease=0.0,\n",
       "            min_impurity_split=None, min_samples_leaf=1,\n",
       "            min_samples_split=2, min_weight_fraction_leaf=0.0,\n",
       "            n_estimators=42, n_jobs=1, oob_score=False, random_state=42,\n",
       "            verbose=0, warm_start=False),\n",
       "       fit_params=None, iid=True, n_jobs=1,\n",
       "       param_grid={'n_estimators': [42], 'criterion': ['gini', 'entropy'], 'max_leaf_nodes': [2000], 'max_depth': [2, 3, 5], 'min_samples_leaf': [5, 10, 20], 'max_features': [3, 5, 7], 'random_state': [42]},\n",
       "       pre_dispatch='2*n_jobs', refit=True, return_train_score='warn',\n",
       "       scoring='roc_auc', verbose=0)"
      ]
     },
     "execution_count": 153,
     "metadata": {},
     "output_type": "execute_result"
    }
   ],
   "source": [
    "rf_cv.fit(X_train, y_train)"
   ]
  },
  {
   "cell_type": "code",
   "execution_count": 154,
   "metadata": {},
   "outputs": [
    {
     "name": "stdout",
     "output_type": "stream",
     "text": [
      "Tuned Random Forest Parameter: {'criterion': 'entropy', 'max_depth': 3, 'max_features': 7, 'max_leaf_nodes': 2000, 'min_samples_leaf': 10, 'n_estimators': 42, 'random_state': 42}\n",
      "Tuned Random Forest Accuracy: 0.7205949507015068\n"
     ]
    }
   ],
   "source": [
    "print(\"Tuned Random Forest Parameter: {}\".format(rf_cv.best_params_))\n",
    "print(\"Tuned Random Forest Accuracy: {}\".format(rf_cv.best_score_))"
   ]
  },
  {
   "cell_type": "code",
   "execution_count": 157,
   "metadata": {},
   "outputs": [],
   "source": [
    "param_grid = {'n_estimators': [42], 'criterion': ['gini', 'entropy'], 'max_leaf_nodes':[2000], 'max_depth':[2,3,5],'min_samples_leaf':[5,10,20], 'max_features':[3,5,7], 'random_state':[42]}"
   ]
  },
  {
   "cell_type": "code",
   "execution_count": 158,
   "metadata": {},
   "outputs": [],
   "source": [
    "ec_cv = GridSearchCV(ec, param_grid,cv = 5, scoring= 'roc_auc')"
   ]
  },
  {
   "cell_type": "code",
   "execution_count": 159,
   "metadata": {},
   "outputs": [
    {
     "data": {
      "text/plain": [
       "GridSearchCV(cv=5, error_score='raise',\n",
       "       estimator=ExtraTreesClassifier(bootstrap=False, class_weight='balanced',\n",
       "           criterion='gini', max_depth=5, max_features=4,\n",
       "           max_leaf_nodes=None, min_impurity_decrease=0.0,\n",
       "           min_impurity_split=None, min_samples_leaf=1,\n",
       "           min_samples_split=2, min_weight_fraction_leaf=0.0,\n",
       "           n_estimators=42, n_jobs=1, oob_score=False, random_state=42,\n",
       "           verbose=0, warm_start=False),\n",
       "       fit_params=None, iid=True, n_jobs=1,\n",
       "       param_grid={'n_estimators': [42], 'criterion': ['gini', 'entropy'], 'max_leaf_nodes': [2000], 'max_depth': [2, 3, 5], 'min_samples_leaf': [5, 10, 20], 'max_features': [3, 5, 7], 'random_state': [42]},\n",
       "       pre_dispatch='2*n_jobs', refit=True, return_train_score='warn',\n",
       "       scoring='roc_auc', verbose=0)"
      ]
     },
     "execution_count": 159,
     "metadata": {},
     "output_type": "execute_result"
    }
   ],
   "source": [
    "ec_cv.fit(X_train, y_train)"
   ]
  },
  {
   "cell_type": "code",
   "execution_count": 160,
   "metadata": {},
   "outputs": [
    {
     "name": "stdout",
     "output_type": "stream",
     "text": [
      "Tuned Random Forest Parameter: {'criterion': 'gini', 'max_depth': 5, 'max_features': 3, 'max_leaf_nodes': 2000, 'min_samples_leaf': 5, 'n_estimators': 42, 'random_state': 42}\n",
      "Tuned Random Forest Accuracy: 0.7057286690595975\n"
     ]
    }
   ],
   "source": [
    "print(\"Tuned Random Forest Parameter: {}\".format(ec_cv.best_params_))\n",
    "print(\"Tuned Random Forest Accuracy: {}\".format(ec_cv.best_score_))"
   ]
  },
  {
   "cell_type": "code",
   "execution_count": 162,
   "metadata": {},
   "outputs": [],
   "source": [
    "ec = ExtraTreesClassifier(random_state= 42, n_estimators= 42, class_weight= 'balanced', max_depth= 5, max_features=3, criterion='gini',min_samples_leaf=5)"
   ]
  },
  {
   "cell_type": "code",
   "execution_count": 163,
   "metadata": {},
   "outputs": [
    {
     "name": "stdout",
     "output_type": "stream",
     "text": [
      "[[1274 1180]\n",
      " [  38  148]]\n",
      "             precision    recall  f1-score   support\n",
      "\n",
      "          0       0.97      0.52      0.68      2454\n",
      "          1       0.11      0.80      0.20       186\n",
      "\n",
      "avg / total       0.91      0.54      0.64      2640\n",
      "\n",
      "AUC: 0.7042945027210348\n"
     ]
    }
   ],
   "source": [
    "ec.fit(X_train, y_train)\n",
    "y_pred = ec.predict(X_test)\n",
    "y_prob = ec.predict_proba(X_test)[:,1]\n",
    "print(confusion_matrix(y_test, y_pred))\n",
    "print(classification_report(y_test,y_pred))\n",
    "print(\"AUC: {}\".format(roc_auc_score(y_test, y_prob)))"
   ]
  },
  {
   "cell_type": "code",
   "execution_count": 191,
   "metadata": {},
   "outputs": [],
   "source": [
    "clf1 = LogisticRegression(solver='lbfgs',random_state=42, class_weight= 'balanced')"
   ]
  },
  {
   "cell_type": "code",
   "execution_count": 199,
   "metadata": {},
   "outputs": [
    {
     "name": "stdout",
     "output_type": "stream",
     "text": [
      "[[1286 1168]\n",
      " [  33  153]]\n",
      "             precision    recall  f1-score   support\n",
      "\n",
      "          0       0.97      0.52      0.68      2454\n",
      "          1       0.12      0.82      0.20       186\n",
      "\n",
      "avg / total       0.91      0.55      0.65      2640\n",
      "\n",
      "AUC: 0.7176510152395474\n"
     ]
    },
    {
     "name": "stderr",
     "output_type": "stream",
     "text": [
      "/anaconda3/lib/python3.6/site-packages/sklearn/preprocessing/label.py:151: DeprecationWarning: The truth value of an empty array is ambiguous. Returning False, but in future this will result in an error. Use `array.size > 0` to check that an array is not empty.\n",
      "  if diff:\n"
     ]
    }
   ],
   "source": [
    "eclf = VotingClassifier(estimators=[\n",
    " ('rf', rf), ('ec', ec)], voting='soft', weights=[3,1],flatten_transform=True)\n",
    "eclf = eclf.fit(X_train, y_train)\n",
    "y_pred = eclf.predict(X_test)\n",
    "y_prob = eclf.predict_proba(X_test)[:,1]\n",
    "print(confusion_matrix(y_test, y_pred))\n",
    "print(classification_report(y_test,y_pred))\n",
    "print(\"AUC: {}\".format(roc_auc_score(y_test, y_prob)))"
   ]
  },
  {
   "cell_type": "markdown",
   "metadata": {},
   "source": [
    "# ---------------------------------------------------------------------\n",
    "# Predict the validation data and export it to csv"
   ]
  },
  {
   "cell_type": "code",
   "execution_count": 171,
   "metadata": {},
   "outputs": [
    {
     "data": {
      "text/html": [
       "<div>\n",
       "<style scoped>\n",
       "    .dataframe tbody tr th:only-of-type {\n",
       "        vertical-align: middle;\n",
       "    }\n",
       "\n",
       "    .dataframe tbody tr th {\n",
       "        vertical-align: top;\n",
       "    }\n",
       "\n",
       "    .dataframe thead th {\n",
       "        text-align: right;\n",
       "    }\n",
       "</style>\n",
       "<table border=\"1\" class=\"dataframe\">\n",
       "  <thead>\n",
       "    <tr style=\"text-align: right;\">\n",
       "      <th></th>\n",
       "      <th>AGE</th>\n",
       "      <th>MARITAL_STATUS</th>\n",
       "      <th>POSTAL_CD</th>\n",
       "      <th>GENDER</th>\n",
       "      <th>EDUCATION</th>\n",
       "      <th>STATE</th>\n",
       "      <th>OCCUPATION</th>\n",
       "      <th>OCC_DESC</th>\n",
       "      <th>CUST_SEGMENT</th>\n",
       "      <th>DEPENDENT_CNT</th>\n",
       "      <th>...</th>\n",
       "      <th>SA_CNT</th>\n",
       "      <th>CC_CNT</th>\n",
       "      <th>HP_CNT</th>\n",
       "      <th>TL_CNT</th>\n",
       "      <th>TLi_CNT</th>\n",
       "      <th>INS_CREDIT_LIFE_CNT</th>\n",
       "      <th>INS_LIFE_CNT</th>\n",
       "      <th>INS_NON_LIFE_CNT</th>\n",
       "      <th>INS_CNT</th>\n",
       "      <th>loan_application_date</th>\n",
       "    </tr>\n",
       "    <tr>\n",
       "      <th>BANK_ID</th>\n",
       "      <th></th>\n",
       "      <th></th>\n",
       "      <th></th>\n",
       "      <th></th>\n",
       "      <th></th>\n",
       "      <th></th>\n",
       "      <th></th>\n",
       "      <th></th>\n",
       "      <th></th>\n",
       "      <th></th>\n",
       "      <th></th>\n",
       "      <th></th>\n",
       "      <th></th>\n",
       "      <th></th>\n",
       "      <th></th>\n",
       "      <th></th>\n",
       "      <th></th>\n",
       "      <th></th>\n",
       "      <th></th>\n",
       "      <th></th>\n",
       "      <th></th>\n",
       "    </tr>\n",
       "  </thead>\n",
       "  <tbody>\n",
       "    <tr>\n",
       "      <th>10001</th>\n",
       "      <td>59</td>\n",
       "      <td>Married</td>\n",
       "      <td>47500.0</td>\n",
       "      <td>Male</td>\n",
       "      <td>Bachelor</td>\n",
       "      <td>Selangor Darul Ehsan</td>\n",
       "      <td>Professionals, Passenger/Cargo Aircraft - Air ...</td>\n",
       "      <td>OTHERS</td>\n",
       "      <td>PREFERRED</td>\n",
       "      <td>0.0</td>\n",
       "      <td>...</td>\n",
       "      <td>1.0</td>\n",
       "      <td>1</td>\n",
       "      <td>0</td>\n",
       "      <td>0</td>\n",
       "      <td>0</td>\n",
       "      <td>0</td>\n",
       "      <td>0</td>\n",
       "      <td>0</td>\n",
       "      <td>0</td>\n",
       "      <td>04Jul2017</td>\n",
       "    </tr>\n",
       "    <tr>\n",
       "      <th>10006</th>\n",
       "      <td>58</td>\n",
       "      <td>Married</td>\n",
       "      <td>75200.0</td>\n",
       "      <td>Male</td>\n",
       "      <td>Secondary</td>\n",
       "      <td>Melaka</td>\n",
       "      <td>Plant/Machine,  Drivers/Mobile Plant Operators...</td>\n",
       "      <td>NON-EXECUTIVE</td>\n",
       "      <td>MASS</td>\n",
       "      <td>0.0</td>\n",
       "      <td>...</td>\n",
       "      <td>1.0</td>\n",
       "      <td>0</td>\n",
       "      <td>0</td>\n",
       "      <td>0</td>\n",
       "      <td>0</td>\n",
       "      <td>0</td>\n",
       "      <td>0</td>\n",
       "      <td>0</td>\n",
       "      <td>0</td>\n",
       "      <td>01Nov2017</td>\n",
       "    </tr>\n",
       "    <tr>\n",
       "      <th>10018</th>\n",
       "      <td>58</td>\n",
       "      <td>Married</td>\n",
       "      <td>40400.0</td>\n",
       "      <td>Male</td>\n",
       "      <td>Secondary</td>\n",
       "      <td>Selangor Darul Ehsan</td>\n",
       "      <td>Plant/Machine,  Drivers/Mobile Plant Operators...</td>\n",
       "      <td>NON-EXECUTIVE</td>\n",
       "      <td>MASS</td>\n",
       "      <td>1.0</td>\n",
       "      <td>...</td>\n",
       "      <td>1.0</td>\n",
       "      <td>0</td>\n",
       "      <td>1</td>\n",
       "      <td>0</td>\n",
       "      <td>0</td>\n",
       "      <td>0</td>\n",
       "      <td>0</td>\n",
       "      <td>0</td>\n",
       "      <td>0</td>\n",
       "      <td>05Jul2017</td>\n",
       "    </tr>\n",
       "    <tr>\n",
       "      <th>10019</th>\n",
       "      <td>58</td>\n",
       "      <td>Married</td>\n",
       "      <td>81700.0</td>\n",
       "      <td>Male</td>\n",
       "      <td>No Formal Education / Unknown</td>\n",
       "      <td>Johor Darul Takzim</td>\n",
       "      <td>Associate Professionals, Artistic and Cultural...</td>\n",
       "      <td>OTHERS</td>\n",
       "      <td>MASS</td>\n",
       "      <td>0.0</td>\n",
       "      <td>...</td>\n",
       "      <td>1.0</td>\n",
       "      <td>0</td>\n",
       "      <td>0</td>\n",
       "      <td>0</td>\n",
       "      <td>0</td>\n",
       "      <td>0</td>\n",
       "      <td>0</td>\n",
       "      <td>0</td>\n",
       "      <td>0</td>\n",
       "      <td>29Dec2017</td>\n",
       "    </tr>\n",
       "    <tr>\n",
       "      <th>10028</th>\n",
       "      <td>57</td>\n",
       "      <td>Married</td>\n",
       "      <td>48050.0</td>\n",
       "      <td>Male</td>\n",
       "      <td>NaN</td>\n",
       "      <td>Selangor Darul Ehsan</td>\n",
       "      <td>Managers, Administrative/Commercial Managers/A...</td>\n",
       "      <td>MANAGER OR SUPERVISOR</td>\n",
       "      <td>PREFERRED</td>\n",
       "      <td>0.0</td>\n",
       "      <td>...</td>\n",
       "      <td>1.0</td>\n",
       "      <td>1</td>\n",
       "      <td>1</td>\n",
       "      <td>0</td>\n",
       "      <td>0</td>\n",
       "      <td>0</td>\n",
       "      <td>0</td>\n",
       "      <td>0</td>\n",
       "      <td>0</td>\n",
       "      <td>10Aug2017</td>\n",
       "    </tr>\n",
       "  </tbody>\n",
       "</table>\n",
       "<p>5 rows × 23 columns</p>\n",
       "</div>"
      ],
      "text/plain": [
       "         AGE MARITAL_STATUS  POSTAL_CD GENDER                      EDUCATION  \\\n",
       "BANK_ID                                                                        \n",
       "10001     59        Married    47500.0   Male                       Bachelor   \n",
       "10006     58        Married    75200.0   Male                      Secondary   \n",
       "10018     58        Married    40400.0   Male                      Secondary   \n",
       "10019     58        Married    81700.0   Male  No Formal Education / Unknown   \n",
       "10028     57        Married    48050.0   Male                            NaN   \n",
       "\n",
       "                        STATE  \\\n",
       "BANK_ID                         \n",
       "10001    Selangor Darul Ehsan   \n",
       "10006                  Melaka   \n",
       "10018    Selangor Darul Ehsan   \n",
       "10019      Johor Darul Takzim   \n",
       "10028    Selangor Darul Ehsan   \n",
       "\n",
       "                                                OCCUPATION  \\\n",
       "BANK_ID                                                      \n",
       "10001    Professionals, Passenger/Cargo Aircraft - Air ...   \n",
       "10006    Plant/Machine,  Drivers/Mobile Plant Operators...   \n",
       "10018    Plant/Machine,  Drivers/Mobile Plant Operators...   \n",
       "10019    Associate Professionals, Artistic and Cultural...   \n",
       "10028    Managers, Administrative/Commercial Managers/A...   \n",
       "\n",
       "                      OCC_DESC CUST_SEGMENT  DEPENDENT_CNT  \\\n",
       "BANK_ID                                                      \n",
       "10001                   OTHERS    PREFERRED            0.0   \n",
       "10006            NON-EXECUTIVE         MASS            0.0   \n",
       "10018            NON-EXECUTIVE         MASS            1.0   \n",
       "10019                   OTHERS         MASS            0.0   \n",
       "10028    MANAGER OR SUPERVISOR    PREFERRED            0.0   \n",
       "\n",
       "                 ...            SA_CNT  CC_CNT  HP_CNT  TL_CNT  TLi_CNT  \\\n",
       "BANK_ID          ...                                                      \n",
       "10001            ...               1.0       1       0       0        0   \n",
       "10006            ...               1.0       0       0       0        0   \n",
       "10018            ...               1.0       0       1       0        0   \n",
       "10019            ...               1.0       0       0       0        0   \n",
       "10028            ...               1.0       1       1       0        0   \n",
       "\n",
       "         INS_CREDIT_LIFE_CNT  INS_LIFE_CNT  INS_NON_LIFE_CNT  INS_CNT  \\\n",
       "BANK_ID                                                                 \n",
       "10001                      0             0                 0        0   \n",
       "10006                      0             0                 0        0   \n",
       "10018                      0             0                 0        0   \n",
       "10019                      0             0                 0        0   \n",
       "10028                      0             0                 0        0   \n",
       "\n",
       "         loan_application_date  \n",
       "BANK_ID                         \n",
       "10001                04Jul2017  \n",
       "10006                01Nov2017  \n",
       "10018                05Jul2017  \n",
       "10019                29Dec2017  \n",
       "10028                10Aug2017  \n",
       "\n",
       "[5 rows x 23 columns]"
      ]
     },
     "execution_count": 171,
     "metadata": {},
     "output_type": "execute_result"
    }
   ],
   "source": [
    "df6.head()"
   ]
  },
  {
   "cell_type": "code",
   "execution_count": 173,
   "metadata": {},
   "outputs": [
    {
     "data": {
      "text/html": [
       "<div>\n",
       "<style scoped>\n",
       "    .dataframe tbody tr th:only-of-type {\n",
       "        vertical-align: middle;\n",
       "    }\n",
       "\n",
       "    .dataframe tbody tr th {\n",
       "        vertical-align: top;\n",
       "    }\n",
       "\n",
       "    .dataframe thead th {\n",
       "        text-align: right;\n",
       "    }\n",
       "</style>\n",
       "<table border=\"1\" class=\"dataframe\">\n",
       "  <thead>\n",
       "    <tr style=\"text-align: right;\">\n",
       "      <th></th>\n",
       "      <th>PROBABILITY</th>\n",
       "      <th>DELQ_FLG</th>\n",
       "      <th>Unnamed: 3</th>\n",
       "      <th>Unnamed: 4</th>\n",
       "    </tr>\n",
       "    <tr>\n",
       "      <th>BANK_ID</th>\n",
       "      <th></th>\n",
       "      <th></th>\n",
       "      <th></th>\n",
       "      <th></th>\n",
       "    </tr>\n",
       "  </thead>\n",
       "  <tbody>\n",
       "    <tr>\n",
       "      <th>10001</th>\n",
       "      <td>NaN</td>\n",
       "      <td>NaN</td>\n",
       "      <td>NaN</td>\n",
       "      <td>NaN</td>\n",
       "    </tr>\n",
       "    <tr>\n",
       "      <th>10006</th>\n",
       "      <td>NaN</td>\n",
       "      <td>NaN</td>\n",
       "      <td>NaN</td>\n",
       "      <td>NaN</td>\n",
       "    </tr>\n",
       "    <tr>\n",
       "      <th>10018</th>\n",
       "      <td>NaN</td>\n",
       "      <td>NaN</td>\n",
       "      <td>NaN</td>\n",
       "      <td>NaN</td>\n",
       "    </tr>\n",
       "    <tr>\n",
       "      <th>10019</th>\n",
       "      <td>NaN</td>\n",
       "      <td>NaN</td>\n",
       "      <td>NaN</td>\n",
       "      <td>NaN</td>\n",
       "    </tr>\n",
       "    <tr>\n",
       "      <th>10028</th>\n",
       "      <td>NaN</td>\n",
       "      <td>NaN</td>\n",
       "      <td>NaN</td>\n",
       "      <td></td>\n",
       "    </tr>\n",
       "  </tbody>\n",
       "</table>\n",
       "</div>"
      ],
      "text/plain": [
       "         PROBABILITY  DELQ_FLG  Unnamed: 3 Unnamed: 4\n",
       "BANK_ID                                              \n",
       "10001            NaN       NaN         NaN        NaN\n",
       "10006            NaN       NaN         NaN        NaN\n",
       "10018            NaN       NaN         NaN        NaN\n",
       "10019            NaN       NaN         NaN        NaN\n",
       "10028            NaN       NaN         NaN           "
      ]
     },
     "execution_count": 173,
     "metadata": {},
     "output_type": "execute_result"
    }
   ],
   "source": [
    "df7.head()"
   ]
  },
  {
   "cell_type": "code",
   "execution_count": 175,
   "metadata": {},
   "outputs": [
    {
     "name": "stderr",
     "output_type": "stream",
     "text": [
      "/anaconda3/lib/python3.6/site-packages/sklearn/preprocessing/label.py:151: DeprecationWarning: The truth value of an empty array is ambiguous. Returning False, but in future this will result in an error. Use `array.size > 0` to check that an array is not empty.\n",
      "  if diff:\n"
     ]
    }
   ],
   "source": [
    "eclf = VotingClassifier(estimators=[\n",
    " ('rf', rf), ('ec', ec)], voting='soft', weights=[3,1],flatten_transform=True)\n",
    "eclf = eclf.fit(X, y)\n",
    "\n",
    "df7['DELQ_FLG'] = eclf.predict(df6_df23)\n",
    "df7['PROBABILITY'] = eclf.predict_proba(df6_df23)[:,1]"
   ]
  },
  {
   "cell_type": "code",
   "execution_count": 176,
   "metadata": {},
   "outputs": [
    {
     "data": {
      "text/html": [
       "<div>\n",
       "<style scoped>\n",
       "    .dataframe tbody tr th:only-of-type {\n",
       "        vertical-align: middle;\n",
       "    }\n",
       "\n",
       "    .dataframe tbody tr th {\n",
       "        vertical-align: top;\n",
       "    }\n",
       "\n",
       "    .dataframe thead th {\n",
       "        text-align: right;\n",
       "    }\n",
       "</style>\n",
       "<table border=\"1\" class=\"dataframe\">\n",
       "  <thead>\n",
       "    <tr style=\"text-align: right;\">\n",
       "      <th></th>\n",
       "      <th>PROBABILITY</th>\n",
       "      <th>DELQ_FLG</th>\n",
       "      <th>Unnamed: 3</th>\n",
       "      <th>Unnamed: 4</th>\n",
       "    </tr>\n",
       "    <tr>\n",
       "      <th>BANK_ID</th>\n",
       "      <th></th>\n",
       "      <th></th>\n",
       "      <th></th>\n",
       "      <th></th>\n",
       "    </tr>\n",
       "  </thead>\n",
       "  <tbody>\n",
       "    <tr>\n",
       "      <th>10001</th>\n",
       "      <td>0.184419</td>\n",
       "      <td>0</td>\n",
       "      <td>NaN</td>\n",
       "      <td>NaN</td>\n",
       "    </tr>\n",
       "    <tr>\n",
       "      <th>10006</th>\n",
       "      <td>0.477725</td>\n",
       "      <td>0</td>\n",
       "      <td>NaN</td>\n",
       "      <td>NaN</td>\n",
       "    </tr>\n",
       "    <tr>\n",
       "      <th>10018</th>\n",
       "      <td>0.478554</td>\n",
       "      <td>0</td>\n",
       "      <td>NaN</td>\n",
       "      <td>NaN</td>\n",
       "    </tr>\n",
       "    <tr>\n",
       "      <th>10019</th>\n",
       "      <td>0.477725</td>\n",
       "      <td>0</td>\n",
       "      <td>NaN</td>\n",
       "      <td>NaN</td>\n",
       "    </tr>\n",
       "    <tr>\n",
       "      <th>10028</th>\n",
       "      <td>0.190378</td>\n",
       "      <td>0</td>\n",
       "      <td>NaN</td>\n",
       "      <td></td>\n",
       "    </tr>\n",
       "  </tbody>\n",
       "</table>\n",
       "</div>"
      ],
      "text/plain": [
       "         PROBABILITY  DELQ_FLG  Unnamed: 3 Unnamed: 4\n",
       "BANK_ID                                              \n",
       "10001       0.184419         0         NaN        NaN\n",
       "10006       0.477725         0         NaN        NaN\n",
       "10018       0.478554         0         NaN        NaN\n",
       "10019       0.477725         0         NaN        NaN\n",
       "10028       0.190378         0         NaN           "
      ]
     },
     "execution_count": 176,
     "metadata": {},
     "output_type": "execute_result"
    }
   ],
   "source": [
    "df7.head()"
   ]
  },
  {
   "cell_type": "code",
   "execution_count": 179,
   "metadata": {},
   "outputs": [],
   "source": [
    "df7.drop(df7.columns[3], axis=1,inplace= True)"
   ]
  },
  {
   "cell_type": "code",
   "execution_count": 180,
   "metadata": {},
   "outputs": [
    {
     "data": {
      "text/html": [
       "<div>\n",
       "<style scoped>\n",
       "    .dataframe tbody tr th:only-of-type {\n",
       "        vertical-align: middle;\n",
       "    }\n",
       "\n",
       "    .dataframe tbody tr th {\n",
       "        vertical-align: top;\n",
       "    }\n",
       "\n",
       "    .dataframe thead th {\n",
       "        text-align: right;\n",
       "    }\n",
       "</style>\n",
       "<table border=\"1\" class=\"dataframe\">\n",
       "  <thead>\n",
       "    <tr style=\"text-align: right;\">\n",
       "      <th></th>\n",
       "      <th>PROBABILITY</th>\n",
       "      <th>DELQ_FLG</th>\n",
       "      <th>Unnamed: 3</th>\n",
       "    </tr>\n",
       "    <tr>\n",
       "      <th>BANK_ID</th>\n",
       "      <th></th>\n",
       "      <th></th>\n",
       "      <th></th>\n",
       "    </tr>\n",
       "  </thead>\n",
       "  <tbody>\n",
       "    <tr>\n",
       "      <th>10001</th>\n",
       "      <td>0.184419</td>\n",
       "      <td>0</td>\n",
       "      <td>NaN</td>\n",
       "    </tr>\n",
       "    <tr>\n",
       "      <th>10006</th>\n",
       "      <td>0.477725</td>\n",
       "      <td>0</td>\n",
       "      <td>NaN</td>\n",
       "    </tr>\n",
       "    <tr>\n",
       "      <th>10018</th>\n",
       "      <td>0.478554</td>\n",
       "      <td>0</td>\n",
       "      <td>NaN</td>\n",
       "    </tr>\n",
       "    <tr>\n",
       "      <th>10019</th>\n",
       "      <td>0.477725</td>\n",
       "      <td>0</td>\n",
       "      <td>NaN</td>\n",
       "    </tr>\n",
       "    <tr>\n",
       "      <th>10028</th>\n",
       "      <td>0.190378</td>\n",
       "      <td>0</td>\n",
       "      <td>NaN</td>\n",
       "    </tr>\n",
       "  </tbody>\n",
       "</table>\n",
       "</div>"
      ],
      "text/plain": [
       "         PROBABILITY  DELQ_FLG  Unnamed: 3\n",
       "BANK_ID                                   \n",
       "10001       0.184419         0         NaN\n",
       "10006       0.477725         0         NaN\n",
       "10018       0.478554         0         NaN\n",
       "10019       0.477725         0         NaN\n",
       "10028       0.190378         0         NaN"
      ]
     },
     "execution_count": 180,
     "metadata": {},
     "output_type": "execute_result"
    }
   ],
   "source": [
    "df7.head()"
   ]
  },
  {
   "cell_type": "code",
   "execution_count": 181,
   "metadata": {},
   "outputs": [],
   "source": [
    "df7.drop(df7.columns[2], axis=1,inplace= True)"
   ]
  },
  {
   "cell_type": "code",
   "execution_count": 183,
   "metadata": {},
   "outputs": [],
   "source": [
    "df7.to_csv('Submission_SurabayMining.csv')"
   ]
  }
 ],
 "metadata": {
  "kernelspec": {
   "display_name": "Python 3",
   "language": "python",
   "name": "python3"
  },
  "language_info": {
   "codemirror_mode": {
    "name": "ipython",
    "version": 3
   },
   "file_extension": ".py",
   "mimetype": "text/x-python",
   "name": "python",
   "nbconvert_exporter": "python",
   "pygments_lexer": "ipython3",
   "version": "3.7.4"
  }
 },
 "nbformat": 4,
 "nbformat_minor": 2
}
